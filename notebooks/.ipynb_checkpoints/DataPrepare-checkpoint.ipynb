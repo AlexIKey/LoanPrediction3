{
 "cells": [
  {
   "cell_type": "markdown",
   "metadata": {
    "collapsed": true
   },
   "source": [
    "\n",
    "# \"Loan Prediction III. Part1. Data Exploration and Preparing\" \n",
    "---\n",
    "## Author Oleksandr Kursik\n"
   ]
  },
  {
   "cell_type": "markdown",
   "metadata": {},
   "source": [
    "# 1.Define the problem"
   ]
  },
  {
   "cell_type": "markdown",
   "metadata": {
    "collapsed": true
   },
   "source": [
    "This is an data exploration [Loan Prediction III contest](https://datahack.analyticsvidhya.com/contest/practice-problem-loan-prediction-iii/) \n",
    "\n",
    "## About Company\n",
    "\n",
    "Dream Housing Finance company deals in all home loans. They have presence across all urban, semi urban and rural areas. Customer first apply for home loan after that company validates the customer eligibility for loan.\n",
    "\n",
    "## Problem\n",
    "\n",
    "Company wants to automate the loan eligibility process (real time) based on customer detail provided while filling online application form. These details are Gender, Marital Status, Education, Number of Dependents, Income, Loan Amount, Credit History and others. To automate this process, they have given a problem to identify the customers segments, those are eligible for loan amount so that they can specifically target these customers. Here they have provided a partial data set.\n",
    "\n",
    "In this problem, we have to predict the Loan Status of a person based on his/ her profile.\n",
    "\n",
    "\n",
    "\n"
   ]
  },
  {
   "cell_type": "code",
   "execution_count": null,
   "metadata": {},
   "outputs": [],
   "source": [
    "import pandas as pd\n",
    "import numpy as np\n",
    "import seaborn as sns\n",
    "import matplotlib.pyplot as plt\n",
    "%matplotlib inline\n"
   ]
  },
  {
   "cell_type": "code",
   "execution_count": null,
   "metadata": {},
   "outputs": [],
   "source": [
    "import os;\n",
    "default_path = os.getcwd()\n",
    "print (default_path); # Prints the working directory\n",
    "os.chdir(default_path)"
   ]
  },
  {
   "cell_type": "markdown",
   "metadata": {},
   "source": [
    "* Read the data and and look at them"
   ]
  },
  {
   "cell_type": "code",
   "execution_count": null,
   "metadata": {},
   "outputs": [],
   "source": [
    "df_train = pd.read_csv('../data/raw/train_u6lujuX_CVtuZ9i.csv', index_col=0)\n",
    "df_train.shape\n"
   ]
  },
  {
   "cell_type": "code",
   "execution_count": null,
   "metadata": {},
   "outputs": [],
   "source": [
    "df_train.head(10)"
   ]
  },
  {
   "cell_type": "code",
   "execution_count": null,
   "metadata": {},
   "outputs": [],
   "source": [
    "df_train.describe()"
   ]
  },
  {
   "cell_type": "markdown",
   "metadata": {},
   "source": [
    "# 2. Prepare the Data"
   ]
  },
  {
   "cell_type": "markdown",
   "metadata": {},
   "source": [
    "## 2.1.Data Description\n",
    "\n",
    "\n",
    "\n",
    "### 2.1.1 Describe the extent of the data that is available\n",
    "Variable | Description\n",
    "-------- | -------------\n",
    "Loan_ID | Unique Loan ID\n",
    "Gender | Male/ Female\n",
    "Married | Applicant married (Y/N)\n",
    "Dependents | Number of dependents\n",
    "Education | Applicant Education (Graduate/ Under Graduate)\n",
    "Self_Employed | Self employed (Y/N)\n",
    "ApplicantIncome | Applicant income\n",
    "CoapplicantIncome | Coapplicant income\n",
    "LoanAmount | Loan amount in thousands\n",
    "Loan_Amount_Term | Term of loan in months\n",
    "Credit_History | credit history meets guidelines\n",
    "Property_Area | Urban/ Semi Urban/ Rural\n",
    "Loan_Status| Loan approved (Y/N)\n",
    "\n",
    "### 2.1.2 Describe data that is not available but is desirable\n",
    "Let’s check if the data has any missing values in numerical variables and separate this quantity by fields:"
   ]
  },
  {
   "cell_type": "code",
   "execution_count": null,
   "metadata": {},
   "outputs": [],
   "source": [
    "df_train.isnull().sum()"
   ]
  },
  {
   "cell_type": "markdown",
   "metadata": {},
   "source": [
    "### 2.1.3. Visualize numerical data (Distribution analysis):\n",
    "\n",
    "ApplicantIncome, CoapplicantIncome, LoanAmount, Loan_Amount_Term\n"
   ]
  },
  {
   "cell_type": "code",
   "execution_count": null,
   "metadata": {},
   "outputs": [],
   "source": [
    "fig1 = plt.figure(figsize=(10,24))\n",
    "ax1 = fig1.add_subplot(8,2,1)\n",
    "df_train['ApplicantIncome'].hist(bins=50)\n",
    "ax2 = fig1.add_subplot(8,2,2)\n",
    "df_train.boxplot(column='ApplicantIncome')\n",
    "ax3 = fig1.add_subplot(8,2,3)\n",
    "df_train['CoapplicantIncome'].hist(bins=50)\n",
    "ax4 = fig1.add_subplot(8,2,4)\n",
    "df_train.boxplot(column='CoapplicantIncome')\n",
    "ax5 = fig1.add_subplot(8,2,5)\n",
    "df_train['LoanAmount'].hist(bins=50)\n",
    "ax6 = fig1.add_subplot(8,2,6)\n",
    "df_train.boxplot(column='LoanAmount')\n",
    "ax7 = fig1.add_subplot(8,2,7)\n",
    "df_train['Loan_Amount_Term'].hist(bins=50)\n",
    "ax8 = fig1.add_subplot(8,2,8)\n",
    "df_train.boxplot(column='Loan_Amount_Term')"
   ]
  },
  {
   "cell_type": "code",
   "execution_count": null,
   "metadata": {},
   "outputs": [],
   "source": [
    "g = sns.PairGrid(df_train)\n",
    "# g.map_diag(plt.hist)\n",
    "g.map_offdiag(plt.scatter)\n"
   ]
  },
  {
   "cell_type": "markdown",
   "metadata": {},
   "source": [
    "### 2.1.4. Categorical variable analysis: \n",
    "\n",
    "Gender,\tMarried, Dependents, Education, Self_Employed, Credit_History, Property_Area"
   ]
  },
  {
   "cell_type": "code",
   "execution_count": null,
   "metadata": {},
   "outputs": [],
   "source": [
    "fig2 = plt.figure(figsize=(15,15))\n",
    "\n",
    "ax1 = fig2.add_subplot(3,3,1)\n",
    "gender_temp = df_train['Gender'].value_counts(ascending=True)\n",
    "gender_temp.plot(kind='bar')\n",
    "ax1.set_title(\"Gender\")\n",
    "\n",
    "ax2 = fig2.add_subplot(3,3,2)\n",
    "married_temp = df_train['Married'].value_counts(ascending=True)\n",
    "married_temp.plot(kind='bar')\n",
    "ax2.set_title(\"Married\")\n",
    "\n",
    "ax3 = fig2.add_subplot(3,3,3)\n",
    "dependents_temp = df_train['Dependents'].value_counts(ascending=True)\n",
    "dependents_temp.plot(kind='bar')\n",
    "ax3.set_title(\"Dependents\")\n",
    "\n",
    "ax4 = fig2.add_subplot(3,3,4)\n",
    "education_temp = df_train['Education'].value_counts(ascending=True)\n",
    "education_temp.plot(kind='bar')\n",
    "ax4.set_title(\"Education\")\n",
    "\n",
    "ax5 = fig2.add_subplot(3,3,5)\n",
    "self_employed_temp = df_train['Self_Employed'].value_counts(ascending=True)\n",
    "self_employed_temp.plot(kind='bar')\n",
    "ax5.set_title(\"Self_Employed\")\n",
    "\n",
    "ax6 = fig2.add_subplot(3,3,6)\n",
    "credit_history_temp = df_train['Credit_History'].value_counts(ascending=True)\n",
    "credit_history_temp.plot(kind='bar')\n",
    "ax6.set_title(\"Credit_History\")\n",
    "\n",
    "ax7 = fig2.add_subplot(3,3,7)\n",
    "property_area_temp = df_train['Property_Area'].value_counts(ascending=True)\n",
    "property_area_temp.plot(kind='bar')\n",
    "ax7.set_title(\"Property_Area\")"
   ]
  },
  {
   "cell_type": "code",
   "execution_count": null,
   "metadata": {},
   "outputs": [],
   "source": [
    "temp1 = df_train['Credit_History'].value_counts(ascending=True)\n",
    "temp2 = df_train.pivot_table(values='Loan_Status',index=['Credit_History'],aggfunc=lambda x: x.map({'Y':1,'N':0}).mean())\n",
    "print('Frequency Table for Credit History:')\n",
    "print(temp1)\n",
    "\n",
    "print ('\\nProbability of getting loan for each Credit History class:')\n",
    "print(temp2)"
   ]
  },
  {
   "cell_type": "code",
   "execution_count": null,
   "metadata": {},
   "outputs": [],
   "source": [
    "fig3 = plt.figure(figsize=(8,4))\n",
    "ax1 = fig3.add_subplot(1,2,1)\n",
    "ax1.set_xlabel('Credit_History')\n",
    "ax1.set_ylabel('Count of Applicants')\n",
    "ax1.set_title(\"Applicants by Credit_History\")\n",
    "temp1.plot(kind='bar')\n",
    "\n",
    "\n",
    "ax2 = fig3.add_subplot(1,2,2)\n",
    "temp2.plot(kind = 'bar')\n",
    "#ax2.set_xlabel('Credit_History')\n",
    "#ax2.set_ylabel('Probability of getting loan')\n",
    "#ax2.set_title(\"Probability of getting loan by credit history\")\n"
   ]
  },
  {
   "cell_type": "markdown",
   "metadata": {},
   "source": [
    "## 2.2 Data Processing\n",
    "\n",
    "### 2.2.1. Make features space\n"
   ]
  },
  {
   "cell_type": "code",
   "execution_count": null,
   "metadata": {},
   "outputs": [],
   "source": [
    "# recode and save outcome vector\n",
    "y = df_train['Loan_Status'].map({'N': 0, 'Y': 1})\n",
    "del df_train['Loan_Status']\n",
    "print ('Length of outcome vector: ', len(y))\n"
   ]
  },
  {
   "cell_type": "code",
   "execution_count": null,
   "metadata": {},
   "outputs": [],
   "source": []
  },
  {
   "cell_type": "code",
   "execution_count": null,
   "metadata": {},
   "outputs": [],
   "source": []
  },
  {
   "cell_type": "code",
   "execution_count": null,
   "metadata": {},
   "outputs": [],
   "source": [
    "df_test = pd.read_csv('../data/raw/test_Y3wMUE5_7gLdaTN.csv', index_col=0)\n",
    "print('Sizes', df_train.shape, df_test.shape)\n"
   ]
  },
  {
   "cell_type": "code",
   "execution_count": null,
   "metadata": {},
   "outputs": [],
   "source": [
    "# all in one dataframe\n",
    "df = pd.concat([df_train, df_test])\n",
    "df.shape"
   ]
  },
  {
   "cell_type": "code",
   "execution_count": null,
   "metadata": {},
   "outputs": [],
   "source": [
    "df.apply(lambda x: sum(x.isnull()),axis=0)"
   ]
  },
  {
   "cell_type": "markdown",
   "metadata": {},
   "source": [
    "### 2.2.2. Constructing needed functions"
   ]
  },
  {
   "cell_type": "code",
   "execution_count": null,
   "metadata": {},
   "outputs": [],
   "source": [
    "from statistics import median, mode\n",
    "\n",
    "def if_else(condition, a, b):\n",
    "    if condition:\n",
    "        return a\n",
    "    else:\n",
    "        return b\n",
    "\n",
    "def make_time_features(data):\n",
    "    \"\"\"\n",
    "    make datetime features (but not in this case)\n",
    "    \"\"\"\n",
    "    return (data, tm)\n",
    "\n",
    "def make_null_features(data):\n",
    "    \"\"\"\n",
    "    replace missing value\n",
    "    \"\"\"\n",
    "    # replace in Dependents NA -> '0'\n",
    "    data['Dependents'] = data['Dependents'].fillna('0')\n",
    "    \n",
    "    # replace in Married NA -> \"No\"\n",
    "    data['Married']=data['Married'].fillna('No')\n",
    "    \n",
    "    # replace in Gender NA -> \"Male\"\n",
    "    data['Gender'] = data['Gender'].fillna('Male')\n",
    "    \n",
    "    # replace in Self_Employed NA -> \"Yes\" if ApplicantIncome >0 else 'No'\n",
    "    data.loc[data.ApplicantIncome > 0,  'Self_Employed']= \\\n",
    "        data.loc[df.ApplicantIncome > 0,  'Self_Employed'].fillna('Yes')\n",
    "    data.loc[data.ApplicantIncome <= 0,  'Self_Employed']= \\\n",
    "        data.loc[df.ApplicantIncome <= 0,  'Self_Employed'].fillna('No')\n",
    "    \n",
    "    # replace in Loan_Amount NA -> median(Loan_Amount)    \n",
    "    data['LoanAmount']= data['LoanAmount'].fillna(median(data['LoanAmount']))\n",
    "    \n",
    "    # replace in Loan_Amount_Term NA -> mode(Loan_Amount_Term)    \n",
    "    data['Loan_Amount_Term']= data['Loan_Amount_Term'].fillna(mode(data['Loan_Amount_Term']))\n",
    "    \n",
    "    # replace in Credit_History NA -> \"Yes\"\n",
    "    data['Credit_History']=data['Credit_History'].fillna(1)\n",
    "\n",
    "    return data\n",
    "\n",
    "\n",
    "\n",
    "\n",
    "\n",
    "def make_calc_features(data):\n",
    "    \"\"\"\n",
    "    feature engineering \n",
    "    \"\"\"\n",
    "    # calculate FamilySize\n",
    "    data['numDependents'] = data['Dependents'].map({'0': 0, '1': 1, '2': 2, '3+': 3})\n",
    "    data['FamilySize'] = data.apply(lambda x: x.numDependents + 2 if x.CoapplicantIncome > 0 or x.Married == 'Yes'\\\n",
    "                           else x.numDependents + 1, axis =1)\n",
    "    del data['numDependents']\n",
    "    \n",
    "    # calculate TotalIncome\n",
    "    data['TotalIncome'] = data.ApplicantIncome + data.CoapplicantIncome\n",
    "    \n",
    "    # calculate TotalIncomePerson\n",
    "    data['TotalIncomePerson'] = data.TotalIncome / data.FamilySize\n",
    "    \n",
    "    # calculate DTI\n",
    "    data['DTI'] = data.LoanAmount / data.TotalIncome \n",
    "    \n",
    "    # calculate DTI by person\n",
    "    data['DTI_person'] = data.LoanAmount / (data.TotalIncome / data.FamilySize)\n",
    "    \n",
    "    # calculate LoanAmountMonth monthly\n",
    "    data['LoanAmountMonth'] = data.LoanAmount / data.Loan_Amount_Term\n",
    "    \n",
    "    # calculate DTI_month\n",
    "    data['DTI_month'] = data.LoanAmountMonth / data.TotalIncome \n",
    "    \n",
    "    # calculate DTI_month by person\n",
    "    data['DTI_month_person'] = data.LoanAmountMonth / (data.TotalIncome / data.FamilySize)\n",
    "        \n",
    "    return data\n",
    "    \n",
    "    \n",
    "\n",
    "log_features = ['LOG_ApplicantIncome',\n",
    "                'LOG_CoapplicantIncome',\n",
    "                'LOG_LoanAmount',\n",
    "                'LOG_Loan_Amount_Term',\n",
    "                'LOG_TotalIncome',\n",
    "                'LOG_TotalIncomePerson',\n",
    "                'LOG_LoanAmountMonth',\n",
    "                'LOG_DTI',\n",
    "                'LOG_DTI_person',\n",
    "                'LOG_DTI_month',\n",
    "                'LOG_DTI_month_person'   \n",
    "               ]\n",
    "\n",
    "def make_logs(data, log_features):\n",
    "    \"\"\"\n",
    "    log(features)\n",
    "    \"\"\"\n",
    "    for name in log_features:\n",
    "        data[name] = np.log(data[name[4:]].abs() + 1)  # 'LOG_' +\n",
    "\n",
    "    return data\n",
    "\n",
    "def make_str_features(data):\n",
    "    \"\"\"\n",
    "    recode string features to numeric\n",
    "    \"\"\"\n",
    "    data['Gender'] = data['Gender'].map({'Male': 1, 'Female': 0})\n",
    "    data['Married'] = data['Married'].map({'Yes': 1, 'No': 0})\n",
    "    data['Dependents'] = data['Dependents'].map({'0': 0, '1': 1, '2': 2, '3+': 3})\n",
    "    data['Education'] = data['Education'].map({'Graduate': 1, 'Not Graduate': 0})\n",
    "    data['Self_Employed'] = data['Self_Employed'].map({'Yes': 1, 'No': 0})\n",
    "    data['Property_Area'] = data['Property_Area'].map({'Urban': 1, 'Semiurban': 2, 'Rural': 3})\n",
    "\n",
    "    return data"
   ]
  },
  {
   "cell_type": "markdown",
   "metadata": {
    "collapsed": true
   },
   "source": [
    "### 2.2.3. Check missing values in the dataset"
   ]
  },
  {
   "cell_type": "code",
   "execution_count": null,
   "metadata": {},
   "outputs": [],
   "source": [
    "df.apply(lambda x: sum(x.isnull()),axis=0)"
   ]
  },
  {
   "cell_type": "code",
   "execution_count": null,
   "metadata": {},
   "outputs": [],
   "source": [
    "#replace NA \n",
    "df= make_null_features(df)\n",
    "df.isnull().sum()"
   ]
  },
  {
   "cell_type": "markdown",
   "metadata": {},
   "source": [
    "### 2.2.4. Make calculated features"
   ]
  },
  {
   "cell_type": "code",
   "execution_count": null,
   "metadata": {},
   "outputs": [],
   "source": [
    "df = make_calc_features(df)"
   ]
  },
  {
   "cell_type": "code",
   "execution_count": null,
   "metadata": {},
   "outputs": [],
   "source": [
    "df.head(10)"
   ]
  },
  {
   "cell_type": "markdown",
   "metadata": {
    "collapsed": true
   },
   "source": [
    "### 2.2.5. Make log features"
   ]
  },
  {
   "cell_type": "code",
   "execution_count": null,
   "metadata": {},
   "outputs": [],
   "source": [
    "df = make_logs(df, log_features)\n"
   ]
  },
  {
   "cell_type": "markdown",
   "metadata": {
    "collapsed": true
   },
   "source": [
    "### 2.2.5. Make string features (as numeric)"
   ]
  },
  {
   "cell_type": "code",
   "execution_count": null,
   "metadata": {},
   "outputs": [],
   "source": [
    "df = make_str_features(df)"
   ]
  },
  {
   "cell_type": "code",
   "execution_count": null,
   "metadata": {},
   "outputs": [],
   "source": [
    "# check NA\n",
    "df.apply(lambda x: sum(x.isnull()),axis=0)"
   ]
  },
  {
   "cell_type": "markdown",
   "metadata": {},
   "source": [
    "## 2.3. Divide data on train and test again and save"
   ]
  },
  {
   "cell_type": "code",
   "execution_count": null,
   "metadata": {},
   "outputs": [],
   "source": [
    "data_train = df[df.index.isin(df_train.index)]\n",
    "data_test = df[df.index.isin(df_test.index)]\n",
    "print(data_train.shape, data_test.shape)\n",
    "\n",
    "data_tmp = data_train.copy()\n",
    "data_tmp['y'] = y\n",
    "\n",
    "\n",
    "data_tmp.to_csv('../data/processed/train_ready.csv', index=False)\n",
    "data_test.to_csv('../data/processed/test_ready.csv', index=False)"
   ]
  },
  {
   "cell_type": "code",
   "execution_count": null,
   "metadata": {},
   "outputs": [],
   "source": [
    "data_tmp.info()"
   ]
  },
  {
   "cell_type": "code",
   "execution_count": null,
   "metadata": {},
   "outputs": [],
   "source": [
    "def get_features_and_labels(frame):\n",
    "    '''\n",
    "    Transforms and scales the input data and returns numpy arrays for\n",
    "    training and testing inputs and targets.\n",
    "    '''\n",
    "\n",
    "    # Replace missing values with 0.0, or we can use\n",
    "    # scikit-learn to calculate missing values (below)\n",
    "    #frame[frame.isnull()] = 0.0\n",
    "\n",
    "    # Convert values to floats\n",
    "    arr = np.array(frame, dtype=np.float)\n",
    "\n",
    "    # Use the last column as the target value\n",
    "    X, y = arr[:, :-1], arr[:, -1]\n",
    "    # To use the first column instead, change the index value\n",
    "    #X, y = arr[:, 1:], arr[:, 0]\n",
    "    \n",
    "    # Use 80% of the data for training; test against the rest\n",
    "    from sklearn.model_selection import train_test_split\n",
    "    X_train, X_test, y_train, y_test = train_test_split(X, y, test_size=0.2)\n",
    "\n",
    "    # sklearn.pipeline.make_pipeline could also be used to chain \n",
    "    # processing and classification into a black box, but here we do\n",
    "    # them separately.\n",
    "    \n",
    "    # If values are missing we could impute them from the training data\n",
    "    #from sklearn.preprocessing import Imputer\n",
    "    #imputer = Imputer(strategy='mean')\n",
    "    #imputer.fit(X_train)\n",
    "    #X_train = imputer.transform(X_train)\n",
    "    #X_test = imputer.transform(X_test)\n",
    "    \n",
    "    # Normalize the attribute values to mean=0 and variance=1\n",
    "    from sklearn.preprocessing import StandardScaler\n",
    "    scaler = StandardScaler()\n",
    "    # To scale to a specified range, use MinMaxScaler\n",
    "    #from sklearn.preprocessing import MinMaxScaler\n",
    "    #scaler = MinMaxScaler(feature_range=(0, 1))\n",
    "    \n",
    "    # Fit the scaler based on the training data, then apply the same\n",
    "    # scaling to both training and test sets.\n",
    "    scaler.fit(X_train)\n",
    "    X_train = scaler.transform(X_train)\n",
    "    X_test = scaler.transform(X_test)\n",
    "\n",
    "    # Return the training and test sets\n",
    "    return X_train, X_test, y_train, y_test\n",
    "\n",
    "\n",
    "trainSet, testSet, y_train, y_test = get_features_and_labels (data_tmp )\n"
   ]
  },
  {
   "cell_type": "code",
   "execution_count": null,
   "metadata": {},
   "outputs": [],
   "source": []
  },
  {
   "cell_type": "markdown",
   "metadata": {
    "collapsed": true
   },
   "source": [
    "# 3. Building a Predictive Models"
   ]
  },
  {
   "cell_type": "markdown",
   "metadata": {},
   "source": [
    "## 3.1."
   ]
  },
  {
   "cell_type": "code",
   "execution_count": 128,
   "metadata": {},
   "outputs": [
    {
     "name": "stdout",
     "output_type": "stream",
     "text": [
      "Evaluating classifiers\n",
      "[0.77083333 0.86213235 0.66239316 0.70495495 0.72068966 0.57647059\n",
      " 0.63921569 0.78627451 0.92117117 0.67094017]\n",
      "LR: ROC_AUC on CV 0.731508 (0.099701) ; ROC_AUC on testSet: 0.689028 \n",
      "[0.85737179 0.671875   0.65384615 0.70833333 0.87327586 0.7872549\n",
      " 0.73137255 0.73823529 0.86824324 0.70619658]\n",
      "RF: ROC_AUC on CV 0.759600 (0.077886) ; ROC_AUC on testSet: 0.655321 \n",
      "Plotting the results\n"
     ]
    },
    {
     "data": {
      "image/png": "[encoded data removed]",
      "text/plain": [
       "<Figure size 432x432 with 1 Axes>"
      ]
     },
     "metadata": {},
     "output_type": "display_data"
    }
   ],
   "source": [
    "def evaluate_classifier(X_train, X_test, y_train, y_test):\n",
    "    '''\n",
    "    Run multiple times with different classifiers to get an idea of the\n",
    "    relative performance of each configuration.\n",
    "\n",
    "    Returns a sequence of tuples containing:\n",
    "        (title, precision, recall)\n",
    "    for each learner.\n",
    "    '''\n",
    "\n",
    "    from sklearn.model_selection import KFold\n",
    "    from sklearn.model_selection import cross_val_score\n",
    "    \n",
    "    # Import some classifiers to test\n",
    "    from sklearn.linear_model import LogisticRegression\n",
    "    from sklearn.ensemble import RandomForestClassifier\n",
    "\n",
    "    # We will calculate the P-R curve for each classifier\n",
    "    from sklearn.metrics import precision_recall_curve, f1_score, accuracy_score, roc_auc_score, roc_curve, auc\n",
    "    \n",
    "    #\n",
    "   \n",
    "    results = []  \n",
    "    names=[]\n",
    "    models = []\n",
    "    seed = 7\n",
    "    \n",
    "    scoring = 'roc_auc'\n",
    "    #scoring = {'acc': 'accuracy','AUC': 'roc_auc'}\n",
    "    \n",
    "    kfold = KFold(n_splits=10, random_state=seed)\n",
    "    \n",
    "    # Here we create classifiers with default parameters. These need\n",
    "    # to be adjusted to obtain optimal performance on your data set.\n",
    "    \n",
    "    # Test the logistoc regression classifier\n",
    "    model = LogisticRegression ()\n",
    "    name='LR'\n",
    "    # Fit the classifier\n",
    "    model.fit(X_train, y_train)\n",
    "    \n",
    "    #Cross validation result   \n",
    "    cv_results= cross_val_score(model, X_train, y_train, cv=kfold, scoring = scoring)\n",
    "    print(cv_results)\n",
    "\n",
    "    \n",
    "    results.append(cv_results)  \n",
    "    names.append(name)\n",
    "   \n",
    "     \n",
    "    #Result on testSet \n",
    "    #calculate ROC_AUC\n",
    "    auc_score = roc_auc_score(y_test, model.predict(X_test))\n",
    "    # Generate the ROC curve\n",
    "    fpr, tpr, threshold = roc_curve(y_test, model.predict(X_test))\n",
    "      \n",
    "    msg = \"%s: %s %f (%f) %s: %f \" % (name, \"ROC_AUC on CV\", cv_results.mean(), cv_results.std(),\"; ROC_AUC on testSet\", auc_score)\n",
    "    print(msg)\n",
    "    # Include the score in the title\n",
    "    yield 'Logistic Regression (AUC score={:.3f})'.format(auc_score), fpr, tpr\n",
    "\n",
    "    \n",
    "\n",
    "    # Test the logistoc regression classifier\n",
    "    model = RandomForestClassifier(n_estimators=100)\n",
    "\n",
    "    name='RF'\n",
    "    # Fit the classifier\n",
    "    model.fit(X_train, y_train)\n",
    "    \n",
    "    #Cross validation result   \n",
    "    cv_results= cross_val_score(model, X_train, y_train, cv=kfold, scoring = scoring)\n",
    "    print(cv_results)\n",
    "\n",
    "    \n",
    "    results.append(cv_results)  \n",
    "    names.append(name)\n",
    "   \n",
    "     \n",
    "    #Result on testSet \n",
    "    #calculate ROC_AUC\n",
    "    auc_score = roc_auc_score(y_test, model.predict(X_test))\n",
    "    # Generate the ROC curve\n",
    "    fpr, tpr, threshold = roc_curve(y_test, model.predict(X_test))\n",
    "      \n",
    "    msg = \"%s: %s %f (%f) %s: %f \" % (name, \"ROC_AUC on CV\", cv_results.mean(), cv_results.std(),\"; ROC_AUC on testSet\", auc_score)\n",
    "    print(msg)\n",
    "    # Include the score in the title\n",
    "    yield 'Random Forest (AUC score={:.3f})'.format(auc_score), fpr, tpr\n",
    "\n",
    "#     # Include the score in the title\n",
    "#     yield 'Random Forest (F1 score={:.3f})'.format(score), precision, recall, accuracy_score\n",
    "\n",
    "    # =====================================================================\n",
    "\n",
    "    \n",
    "    \n",
    "    \n",
    "def plot(results):\n",
    "    '''\n",
    "    Create a plot comparing multiple learners.\n",
    "\n",
    "    `results` is a list of tuples containing:\n",
    "        (title, fpr, tpr)\n",
    "    \n",
    "    All the elements in results will be plotted.\n",
    "    '''\n",
    "\n",
    "    # Plot the ROC curves\n",
    "\n",
    "    fig = plt.figure(figsize=(6, 6))\n",
    "    fig.canvas.set_window_title('Classifying data')\n",
    "\n",
    "    for label, fpr, tpr in results:\n",
    "        plt.plot(fpr, tpr, label=label)\n",
    "\n",
    "    plt.title('ROC Curves')\n",
    "    plt.xlabel('fpr')\n",
    "    plt.ylabel('tpr')\n",
    "    plt.legend(loc='lower left')\n",
    "\n",
    "    # Let matplotlib improve the layout\n",
    "    plt.tight_layout()\n",
    "\n",
    "    # ==================================\n",
    "    # Display the plot in interactive UI\n",
    "    plt.show()\n",
    "\n",
    "    # To save the plot to an image file, use savefig()\n",
    "    #plt.savefig('plot.png')\n",
    "\n",
    "    # Open the image file with the default image viewer\n",
    "    #import subprocess\n",
    "    #subprocess.Popen('plot.png', shell=True)\n",
    "\n",
    "    # To save the plot to an image in memory, use BytesIO and savefig()\n",
    "    # This can then be written to any stream-like object, such as a\n",
    "    # file or HTTP response.\n",
    "    #from io import BytesIO\n",
    "    #img_stream = BytesIO()\n",
    "    #plt.savefig(img_stream, fmt='png')\n",
    "    #img_bytes = img_stream.getvalue()\n",
    "    #print('Image is {} bytes - {!r}'.format(len(img_bytes), img_bytes[:8] + b'...'))\n",
    "\n",
    "    # Closing the figure allows matplotlib to release the memory used.\n",
    "    plt.close()\n",
    "\n",
    "    \n",
    "    \n",
    "    \n",
    "    \n",
    "# Evaluate multiple classifiers on the data\n",
    "print(\"Evaluating classifiers\")\n",
    "results = list(evaluate_classifier(trainSet, testSet, y_train, y_test))\n",
    "\n",
    "# Display the results\n",
    "print(\"Plotting the results\")\n",
    "plot(results)\n",
    "    \n",
    "    \n",
    " \n",
    "\n"
   ]
  },
  {
   "cell_type": "code",
   "execution_count": null,
   "metadata": {},
   "outputs": [],
   "source": []
  }
 ],
 "metadata": {
  "kernelspec": {
   "display_name": "Python 3",
   "language": "python",
   "name": "python3"
  },
  "language_info": {
   "codemirror_mode": {
    "name": "ipython",
    "version": 3
   },
   "file_extension": ".py",
   "mimetype": "text/x-python",
   "name": "python",
   "nbconvert_exporter": "python",
   "pygments_lexer": "ipython3",
   "version": "3.6.4"
  }
 },
 "nbformat": 4,
 "nbformat_minor": 1
}
