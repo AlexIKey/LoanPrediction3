{
 "cells": [
  {
   "cell_type": "markdown",
   "metadata": {
    "collapsed": true
   },
   "source": [
    "\n",
    "# \"Loan Prediction III. Part1. Data Exploration and Preparing\" \n",
    "---\n",
    "## Author Oleksandr Kursik\n"
   ]
  },
  {
   "cell_type": "markdown",
   "metadata": {},
   "source": [
    "# 1.Define the problem"
   ]
  },
  {
   "cell_type": "markdown",
   "metadata": {
    "collapsed": true
   },
   "source": [
    "This is an data exploration [Loan Prediction III contest](https://datahack.analyticsvidhya.com/contest/practice-problem-loan-prediction-iii/) \n",
    "\n",
    "## About Company\n",
    "\n",
    "Dream Housing Finance company deals in all home loans. They have presence across all urban, semi urban and rural areas. Customer first apply for home loan after that company validates the customer eligibility for loan.\n",
    "\n",
    "## Problem\n",
    "\n",
    "Company wants to automate the loan eligibility process (real time) based on customer detail provided while filling online application form. These details are Gender, Marital Status, Education, Number of Dependents, Income, Loan Amount, Credit History and others. To automate this process, they have given a problem to identify the customers segments, those are eligible for loan amount so that they can specifically target these customers. Here they have provided a partial data set.\n",
    "\n",
    "In this problem, we have to predict the Loan Status of a person based on his/ her profile.\n",
    "\n",
    "\n",
    "\n"
   ]
  },
  {
   "cell_type": "code",
   "execution_count": 37,
   "metadata": {},
   "outputs": [],
   "source": [
    "import pandas as pd\n",
    "import numpy as np\n",
    "import seaborn as sns\n",
    "import matplotlib.pyplot as plt\n",
    "import xgboost as xgb\n",
    "import lightgbm as lgb\n",
    "%matplotlib inline\n"
   ]
  },
  {
   "cell_type": "code",
   "execution_count": 38,
   "metadata": {},
   "outputs": [
    {
     "name": "stdout",
     "output_type": "stream",
     "text": [
      "D:\\Python-projects\\LoanPrediction3\\notebooks\n"
     ]
    }
   ],
   "source": [
    "import os;\n",
    "default_path = os.getcwd()\n",
    "path = \"D:/Python-projects/LoanPrediction3/notebooks/\"\n",
    "print (default_path); # Prints the working directory\n",
    "os.chdir(path)"
   ]
  },
  {
   "cell_type": "markdown",
   "metadata": {},
   "source": [
    "* Read the data and and look at them"
   ]
  },
  {
   "cell_type": "code",
   "execution_count": 39,
   "metadata": {},
   "outputs": [
    {
     "data": {
      "text/plain": [
       "(614, 12)"
      ]
     },
     "execution_count": 39,
     "metadata": {},
     "output_type": "execute_result"
    }
   ],
   "source": [
    "df_train = pd.read_csv('../data/raw/train_u6lujuX_CVtuZ9i.csv', index_col=0)\n",
    "df_train.shape\n"
   ]
  },
  {
   "cell_type": "code",
   "execution_count": 40,
   "metadata": {},
   "outputs": [
    {
     "data": {
      "text/html": [
       "<div>\n",
       "<style scoped>\n",
       "    .dataframe tbody tr th:only-of-type {\n",
       "        vertical-align: middle;\n",
       "    }\n",
       "\n",
       "    .dataframe tbody tr th {\n",
       "        vertical-align: top;\n",
       "    }\n",
       "\n",
       "    .dataframe thead th {\n",
       "        text-align: right;\n",
       "    }\n",
       "</style>\n",
       "<table border=\"1\" class=\"dataframe\">\n",
       "  <thead>\n",
       "    <tr style=\"text-align: right;\">\n",
       "      <th></th>\n",
       "      <th>Gender</th>\n",
       "      <th>Married</th>\n",
       "      <th>Dependents</th>\n",
       "      <th>Education</th>\n",
       "      <th>Self_Employed</th>\n",
       "      <th>ApplicantIncome</th>\n",
       "      <th>CoapplicantIncome</th>\n",
       "      <th>LoanAmount</th>\n",
       "      <th>Loan_Amount_Term</th>\n",
       "      <th>Credit_History</th>\n",
       "      <th>Property_Area</th>\n",
       "      <th>Loan_Status</th>\n",
       "    </tr>\n",
       "    <tr>\n",
       "      <th>Loan_ID</th>\n",
       "      <th></th>\n",
       "      <th></th>\n",
       "      <th></th>\n",
       "      <th></th>\n",
       "      <th></th>\n",
       "      <th></th>\n",
       "      <th></th>\n",
       "      <th></th>\n",
       "      <th></th>\n",
       "      <th></th>\n",
       "      <th></th>\n",
       "      <th></th>\n",
       "    </tr>\n",
       "  </thead>\n",
       "  <tbody>\n",
       "    <tr>\n",
       "      <th>LP001002</th>\n",
       "      <td>Male</td>\n",
       "      <td>No</td>\n",
       "      <td>0</td>\n",
       "      <td>Graduate</td>\n",
       "      <td>No</td>\n",
       "      <td>5849</td>\n",
       "      <td>0.0</td>\n",
       "      <td>NaN</td>\n",
       "      <td>360.0</td>\n",
       "      <td>1.0</td>\n",
       "      <td>Urban</td>\n",
       "      <td>Y</td>\n",
       "    </tr>\n",
       "    <tr>\n",
       "      <th>LP001003</th>\n",
       "      <td>Male</td>\n",
       "      <td>Yes</td>\n",
       "      <td>1</td>\n",
       "      <td>Graduate</td>\n",
       "      <td>No</td>\n",
       "      <td>4583</td>\n",
       "      <td>1508.0</td>\n",
       "      <td>128.0</td>\n",
       "      <td>360.0</td>\n",
       "      <td>1.0</td>\n",
       "      <td>Rural</td>\n",
       "      <td>N</td>\n",
       "    </tr>\n",
       "    <tr>\n",
       "      <th>LP001005</th>\n",
       "      <td>Male</td>\n",
       "      <td>Yes</td>\n",
       "      <td>0</td>\n",
       "      <td>Graduate</td>\n",
       "      <td>Yes</td>\n",
       "      <td>3000</td>\n",
       "      <td>0.0</td>\n",
       "      <td>66.0</td>\n",
       "      <td>360.0</td>\n",
       "      <td>1.0</td>\n",
       "      <td>Urban</td>\n",
       "      <td>Y</td>\n",
       "    </tr>\n",
       "    <tr>\n",
       "      <th>LP001006</th>\n",
       "      <td>Male</td>\n",
       "      <td>Yes</td>\n",
       "      <td>0</td>\n",
       "      <td>Not Graduate</td>\n",
       "      <td>No</td>\n",
       "      <td>2583</td>\n",
       "      <td>2358.0</td>\n",
       "      <td>120.0</td>\n",
       "      <td>360.0</td>\n",
       "      <td>1.0</td>\n",
       "      <td>Urban</td>\n",
       "      <td>Y</td>\n",
       "    </tr>\n",
       "    <tr>\n",
       "      <th>LP001008</th>\n",
       "      <td>Male</td>\n",
       "      <td>No</td>\n",
       "      <td>0</td>\n",
       "      <td>Graduate</td>\n",
       "      <td>No</td>\n",
       "      <td>6000</td>\n",
       "      <td>0.0</td>\n",
       "      <td>141.0</td>\n",
       "      <td>360.0</td>\n",
       "      <td>1.0</td>\n",
       "      <td>Urban</td>\n",
       "      <td>Y</td>\n",
       "    </tr>\n",
       "    <tr>\n",
       "      <th>LP001011</th>\n",
       "      <td>Male</td>\n",
       "      <td>Yes</td>\n",
       "      <td>2</td>\n",
       "      <td>Graduate</td>\n",
       "      <td>Yes</td>\n",
       "      <td>5417</td>\n",
       "      <td>4196.0</td>\n",
       "      <td>267.0</td>\n",
       "      <td>360.0</td>\n",
       "      <td>1.0</td>\n",
       "      <td>Urban</td>\n",
       "      <td>Y</td>\n",
       "    </tr>\n",
       "    <tr>\n",
       "      <th>LP001013</th>\n",
       "      <td>Male</td>\n",
       "      <td>Yes</td>\n",
       "      <td>0</td>\n",
       "      <td>Not Graduate</td>\n",
       "      <td>No</td>\n",
       "      <td>2333</td>\n",
       "      <td>1516.0</td>\n",
       "      <td>95.0</td>\n",
       "      <td>360.0</td>\n",
       "      <td>1.0</td>\n",
       "      <td>Urban</td>\n",
       "      <td>Y</td>\n",
       "    </tr>\n",
       "    <tr>\n",
       "      <th>LP001014</th>\n",
       "      <td>Male</td>\n",
       "      <td>Yes</td>\n",
       "      <td>3+</td>\n",
       "      <td>Graduate</td>\n",
       "      <td>No</td>\n",
       "      <td>3036</td>\n",
       "      <td>2504.0</td>\n",
       "      <td>158.0</td>\n",
       "      <td>360.0</td>\n",
       "      <td>0.0</td>\n",
       "      <td>Semiurban</td>\n",
       "      <td>N</td>\n",
       "    </tr>\n",
       "    <tr>\n",
       "      <th>LP001018</th>\n",
       "      <td>Male</td>\n",
       "      <td>Yes</td>\n",
       "      <td>2</td>\n",
       "      <td>Graduate</td>\n",
       "      <td>No</td>\n",
       "      <td>4006</td>\n",
       "      <td>1526.0</td>\n",
       "      <td>168.0</td>\n",
       "      <td>360.0</td>\n",
       "      <td>1.0</td>\n",
       "      <td>Urban</td>\n",
       "      <td>Y</td>\n",
       "    </tr>\n",
       "    <tr>\n",
       "      <th>LP001020</th>\n",
       "      <td>Male</td>\n",
       "      <td>Yes</td>\n",
       "      <td>1</td>\n",
       "      <td>Graduate</td>\n",
       "      <td>No</td>\n",
       "      <td>12841</td>\n",
       "      <td>10968.0</td>\n",
       "      <td>349.0</td>\n",
       "      <td>360.0</td>\n",
       "      <td>1.0</td>\n",
       "      <td>Semiurban</td>\n",
       "      <td>N</td>\n",
       "    </tr>\n",
       "  </tbody>\n",
       "</table>\n",
       "</div>"
      ],
      "text/plain": [
       "         Gender Married Dependents     Education Self_Employed  \\\n",
       "Loan_ID                                                          \n",
       "LP001002   Male      No          0      Graduate            No   \n",
       "LP001003   Male     Yes          1      Graduate            No   \n",
       "LP001005   Male     Yes          0      Graduate           Yes   \n",
       "LP001006   Male     Yes          0  Not Graduate            No   \n",
       "LP001008   Male      No          0      Graduate            No   \n",
       "LP001011   Male     Yes          2      Graduate           Yes   \n",
       "LP001013   Male     Yes          0  Not Graduate            No   \n",
       "LP001014   Male     Yes         3+      Graduate            No   \n",
       "LP001018   Male     Yes          2      Graduate            No   \n",
       "LP001020   Male     Yes          1      Graduate            No   \n",
       "\n",
       "          ApplicantIncome  CoapplicantIncome  LoanAmount  Loan_Amount_Term  \\\n",
       "Loan_ID                                                                      \n",
       "LP001002             5849                0.0         NaN             360.0   \n",
       "LP001003             4583             1508.0       128.0             360.0   \n",
       "LP001005             3000                0.0        66.0             360.0   \n",
       "LP001006             2583             2358.0       120.0             360.0   \n",
       "LP001008             6000                0.0       141.0             360.0   \n",
       "LP001011             5417             4196.0       267.0             360.0   \n",
       "LP001013             2333             1516.0        95.0             360.0   \n",
       "LP001014             3036             2504.0       158.0             360.0   \n",
       "LP001018             4006             1526.0       168.0             360.0   \n",
       "LP001020            12841            10968.0       349.0             360.0   \n",
       "\n",
       "          Credit_History Property_Area Loan_Status  \n",
       "Loan_ID                                             \n",
       "LP001002             1.0         Urban           Y  \n",
       "LP001003             1.0         Rural           N  \n",
       "LP001005             1.0         Urban           Y  \n",
       "LP001006             1.0         Urban           Y  \n",
       "LP001008             1.0         Urban           Y  \n",
       "LP001011             1.0         Urban           Y  \n",
       "LP001013             1.0         Urban           Y  \n",
       "LP001014             0.0     Semiurban           N  \n",
       "LP001018             1.0         Urban           Y  \n",
       "LP001020             1.0     Semiurban           N  "
      ]
     },
     "execution_count": 40,
     "metadata": {},
     "output_type": "execute_result"
    }
   ],
   "source": [
    "df_train.head(10)"
   ]
  },
  {
   "cell_type": "code",
   "execution_count": 41,
   "metadata": {},
   "outputs": [
    {
     "data": {
      "text/html": [
       "<div>\n",
       "<style scoped>\n",
       "    .dataframe tbody tr th:only-of-type {\n",
       "        vertical-align: middle;\n",
       "    }\n",
       "\n",
       "    .dataframe tbody tr th {\n",
       "        vertical-align: top;\n",
       "    }\n",
       "\n",
       "    .dataframe thead th {\n",
       "        text-align: right;\n",
       "    }\n",
       "</style>\n",
       "<table border=\"1\" class=\"dataframe\">\n",
       "  <thead>\n",
       "    <tr style=\"text-align: right;\">\n",
       "      <th></th>\n",
       "      <th>ApplicantIncome</th>\n",
       "      <th>CoapplicantIncome</th>\n",
       "      <th>LoanAmount</th>\n",
       "      <th>Loan_Amount_Term</th>\n",
       "      <th>Credit_History</th>\n",
       "    </tr>\n",
       "  </thead>\n",
       "  <tbody>\n",
       "    <tr>\n",
       "      <th>count</th>\n",
       "      <td>614.000000</td>\n",
       "      <td>614.000000</td>\n",
       "      <td>592.000000</td>\n",
       "      <td>600.00000</td>\n",
       "      <td>564.000000</td>\n",
       "    </tr>\n",
       "    <tr>\n",
       "      <th>mean</th>\n",
       "      <td>5403.459283</td>\n",
       "      <td>1621.245798</td>\n",
       "      <td>146.412162</td>\n",
       "      <td>342.00000</td>\n",
       "      <td>0.842199</td>\n",
       "    </tr>\n",
       "    <tr>\n",
       "      <th>std</th>\n",
       "      <td>6109.041673</td>\n",
       "      <td>2926.248369</td>\n",
       "      <td>85.587325</td>\n",
       "      <td>65.12041</td>\n",
       "      <td>0.364878</td>\n",
       "    </tr>\n",
       "    <tr>\n",
       "      <th>min</th>\n",
       "      <td>150.000000</td>\n",
       "      <td>0.000000</td>\n",
       "      <td>9.000000</td>\n",
       "      <td>12.00000</td>\n",
       "      <td>0.000000</td>\n",
       "    </tr>\n",
       "    <tr>\n",
       "      <th>25%</th>\n",
       "      <td>2877.500000</td>\n",
       "      <td>0.000000</td>\n",
       "      <td>100.000000</td>\n",
       "      <td>360.00000</td>\n",
       "      <td>1.000000</td>\n",
       "    </tr>\n",
       "    <tr>\n",
       "      <th>50%</th>\n",
       "      <td>3812.500000</td>\n",
       "      <td>1188.500000</td>\n",
       "      <td>128.000000</td>\n",
       "      <td>360.00000</td>\n",
       "      <td>1.000000</td>\n",
       "    </tr>\n",
       "    <tr>\n",
       "      <th>75%</th>\n",
       "      <td>5795.000000</td>\n",
       "      <td>2297.250000</td>\n",
       "      <td>168.000000</td>\n",
       "      <td>360.00000</td>\n",
       "      <td>1.000000</td>\n",
       "    </tr>\n",
       "    <tr>\n",
       "      <th>max</th>\n",
       "      <td>81000.000000</td>\n",
       "      <td>41667.000000</td>\n",
       "      <td>700.000000</td>\n",
       "      <td>480.00000</td>\n",
       "      <td>1.000000</td>\n",
       "    </tr>\n",
       "  </tbody>\n",
       "</table>\n",
       "</div>"
      ],
      "text/plain": [
       "       ApplicantIncome  CoapplicantIncome  LoanAmount  Loan_Amount_Term  \\\n",
       "count       614.000000         614.000000  592.000000         600.00000   \n",
       "mean       5403.459283        1621.245798  146.412162         342.00000   \n",
       "std        6109.041673        2926.248369   85.587325          65.12041   \n",
       "min         150.000000           0.000000    9.000000          12.00000   \n",
       "25%        2877.500000           0.000000  100.000000         360.00000   \n",
       "50%        3812.500000        1188.500000  128.000000         360.00000   \n",
       "75%        5795.000000        2297.250000  168.000000         360.00000   \n",
       "max       81000.000000       41667.000000  700.000000         480.00000   \n",
       "\n",
       "       Credit_History  \n",
       "count      564.000000  \n",
       "mean         0.842199  \n",
       "std          0.364878  \n",
       "min          0.000000  \n",
       "25%          1.000000  \n",
       "50%          1.000000  \n",
       "75%          1.000000  \n",
       "max          1.000000  "
      ]
     },
     "execution_count": 41,
     "metadata": {},
     "output_type": "execute_result"
    }
   ],
   "source": [
    "df_train.describe()"
   ]
  },
  {
   "cell_type": "markdown",
   "metadata": {},
   "source": [
    "# 2. Prepare the Data"
   ]
  },
  {
   "cell_type": "markdown",
   "metadata": {},
   "source": [
    "## 2.1.Data Description\n",
    "\n",
    "\n",
    "\n",
    "### 2.1.1 Describe the extent of the data that is available\n",
    "Variable | Description\n",
    "-------- | -------------\n",
    "Loan_ID | Unique Loan ID\n",
    "Gender | Male/ Female\n",
    "Married | Applicant married (Y/N)\n",
    "Dependents | Number of dependents\n",
    "Education | Applicant Education (Graduate/ Under Graduate)\n",
    "Self_Employed | Self employed (Y/N)\n",
    "ApplicantIncome | Applicant income\n",
    "CoapplicantIncome | Coapplicant income\n",
    "LoanAmount | Loan amount in thousands\n",
    "Loan_Amount_Term | Term of loan in months\n",
    "Credit_History | credit history meets guidelines\n",
    "Property_Area | Urban/ Semi Urban/ Rural\n",
    "Loan_Status| Loan approved (Y/N)\n",
    "\n",
    "### 2.1.2 Describe data that is not available but is desirable\n",
    "Let’s check if the data has any missing values in numerical variables and separate this quantity by fields:"
   ]
  },
  {
   "cell_type": "code",
   "execution_count": 42,
   "metadata": {},
   "outputs": [
    {
     "data": {
      "text/plain": [
       "Gender               13\n",
       "Married               3\n",
       "Dependents           15\n",
       "Education             0\n",
       "Self_Employed        32\n",
       "ApplicantIncome       0\n",
       "CoapplicantIncome     0\n",
       "LoanAmount           22\n",
       "Loan_Amount_Term     14\n",
       "Credit_History       50\n",
       "Property_Area         0\n",
       "Loan_Status           0\n",
       "dtype: int64"
      ]
     },
     "execution_count": 42,
     "metadata": {},
     "output_type": "execute_result"
    }
   ],
   "source": [
    "df_train.isnull().sum()"
   ]
  },
  {
   "cell_type": "markdown",
   "metadata": {},
   "source": [
    "### 2.1.3. Visualize numerical data (Distribution analysis):\n",
    "\n",
    "ApplicantIncome, CoapplicantIncome, LoanAmount, Loan_Amount_Term\n"
   ]
  },
  {
   "cell_type": "code",
   "execution_count": 43,
   "metadata": {},
   "outputs": [
    {
     "data": {
      "text/plain": [
       "<matplotlib.axes._subplots.AxesSubplot at 0x2180f90fef0>"
      ]
     },
     "execution_count": 43,
     "metadata": {},
     "output_type": "execute_result"
    },
    {
     "data": {
      "image/png": "[encoded data removed]",
      "text/plain": [
       "<Figure size 720x1728 with 8 Axes>"
      ]
     },
     "metadata": {},
     "output_type": "display_data"
    }
   ],
   "source": [
    "fig1 = plt.figure(figsize=(10,24))\n",
    "ax1 = fig1.add_subplot(8,2,1)\n",
    "df_train['ApplicantIncome'].hist(bins=50)\n",
    "ax2 = fig1.add_subplot(8,2,2)\n",
    "df_train.boxplot(column='ApplicantIncome')\n",
    "ax3 = fig1.add_subplot(8,2,3)\n",
    "df_train['CoapplicantIncome'].hist(bins=50)\n",
    "ax4 = fig1.add_subplot(8,2,4)\n",
    "df_train.boxplot(column='CoapplicantIncome')\n",
    "ax5 = fig1.add_subplot(8,2,5)\n",
    "df_train['LoanAmount'].hist(bins=50)\n",
    "ax6 = fig1.add_subplot(8,2,6)\n",
    "df_train.boxplot(column='LoanAmount')\n",
    "ax7 = fig1.add_subplot(8,2,7)\n",
    "df_train['Loan_Amount_Term'].hist(bins=50)\n",
    "ax8 = fig1.add_subplot(8,2,8)\n",
    "df_train.boxplot(column='Loan_Amount_Term')"
   ]
  },
  {
   "cell_type": "code",
   "execution_count": 44,
   "metadata": {},
   "outputs": [
    {
     "data": {
      "text/plain": [
       "<seaborn.axisgrid.PairGrid at 0x2180f6d5898>"
      ]
     },
     "execution_count": 44,
     "metadata": {},
     "output_type": "execute_result"
    },
    {
     "data": {
      "image/png": "[encoded data removed]",
      "text/plain": [
       "<Figure size 900x900 with 25 Axes>"
      ]
     },
     "metadata": {},
     "output_type": "display_data"
    }
   ],
   "source": [
    "g = sns.PairGrid(df_train)\n",
    "# g.map_diag(plt.hist)\n",
    "g.map_offdiag(plt.scatter)\n"
   ]
  },
  {
   "cell_type": "markdown",
   "metadata": {},
   "source": [
    "### 2.1.4. Categorical variable analysis: \n",
    "\n",
    "Gender,\tMarried, Dependents, Education, Self_Employed, Credit_History, Property_Area"
   ]
  },
  {
   "cell_type": "code",
   "execution_count": 45,
   "metadata": {},
   "outputs": [
    {
     "data": {
      "text/plain": [
       "Text(0.5,1,'Property_Area')"
      ]
     },
     "execution_count": 45,
     "metadata": {},
     "output_type": "execute_result"
    },
    {
     "data": {
      "image/png": "[encoded data removed]",
      "text/plain": [
       "<Figure size 1080x1080 with 7 Axes>"
      ]
     },
     "metadata": {},
     "output_type": "display_data"
    }
   ],
   "source": [
    "fig2 = plt.figure(figsize=(15,15))\n",
    "\n",
    "ax1 = fig2.add_subplot(3,3,1)\n",
    "gender_temp = df_train['Gender'].value_counts(ascending=True)\n",
    "gender_temp.plot(kind='bar')\n",
    "ax1.set_title(\"Gender\")\n",
    "\n",
    "ax2 = fig2.add_subplot(3,3,2)\n",
    "married_temp = df_train['Married'].value_counts(ascending=True)\n",
    "married_temp.plot(kind='bar')\n",
    "ax2.set_title(\"Married\")\n",
    "\n",
    "ax3 = fig2.add_subplot(3,3,3)\n",
    "dependents_temp = df_train['Dependents'].value_counts(ascending=True)\n",
    "dependents_temp.plot(kind='bar')\n",
    "ax3.set_title(\"Dependents\")\n",
    "\n",
    "ax4 = fig2.add_subplot(3,3,4)\n",
    "education_temp = df_train['Education'].value_counts(ascending=True)\n",
    "education_temp.plot(kind='bar')\n",
    "ax4.set_title(\"Education\")\n",
    "\n",
    "ax5 = fig2.add_subplot(3,3,5)\n",
    "self_employed_temp = df_train['Self_Employed'].value_counts(ascending=True)\n",
    "self_employed_temp.plot(kind='bar')\n",
    "ax5.set_title(\"Self_Employed\")\n",
    "\n",
    "ax6 = fig2.add_subplot(3,3,6)\n",
    "credit_history_temp = df_train['Credit_History'].value_counts(ascending=True)\n",
    "credit_history_temp.plot(kind='bar')\n",
    "ax6.set_title(\"Credit_History\")\n",
    "\n",
    "ax7 = fig2.add_subplot(3,3,7)\n",
    "property_area_temp = df_train['Property_Area'].value_counts(ascending=True)\n",
    "property_area_temp.plot(kind='bar')\n",
    "ax7.set_title(\"Property_Area\")"
   ]
  },
  {
   "cell_type": "code",
   "execution_count": 46,
   "metadata": {},
   "outputs": [
    {
     "name": "stdout",
     "output_type": "stream",
     "text": [
      "Frequency Table for Credit History:\n",
      "0.0     89\n",
      "1.0    475\n",
      "Name: Credit_History, dtype: int64\n",
      "\n",
      "Probability of getting loan for each Credit History class:\n",
      "                Loan_Status\n",
      "Credit_History             \n",
      "0.0                0.078652\n",
      "1.0                0.795789\n"
     ]
    }
   ],
   "source": [
    "temp1 = df_train['Credit_History'].value_counts(ascending=True)\n",
    "temp2 = df_train.pivot_table(values='Loan_Status',index=['Credit_History'],aggfunc=lambda x: x.map({'Y':1,'N':0}).mean())\n",
    "print('Frequency Table for Credit History:')\n",
    "print(temp1)\n",
    "\n",
    "print ('\\nProbability of getting loan for each Credit History class:')\n",
    "print(temp2)"
   ]
  },
  {
   "cell_type": "code",
   "execution_count": 47,
   "metadata": {},
   "outputs": [
    {
     "data": {
      "text/plain": [
       "<matplotlib.axes._subplots.AxesSubplot at 0x21810b9ac50>"
      ]
     },
     "execution_count": 47,
     "metadata": {},
     "output_type": "execute_result"
    },
    {
     "data": {
      "image/png": "[encoded data removed]",
      "text/plain": [
       "<Figure size 576x288 with 2 Axes>"
      ]
     },
     "metadata": {},
     "output_type": "display_data"
    },
    {
     "data": {
      "image/png": "[encoded data removed]",
      "text/plain": [
       "<Figure size 432x288 with 1 Axes>"
      ]
     },
     "metadata": {},
     "output_type": "display_data"
    }
   ],
   "source": [
    "fig3 = plt.figure(figsize=(8,4))\n",
    "ax1 = fig3.add_subplot(1,2,1)\n",
    "ax1.set_xlabel('Credit_History')\n",
    "ax1.set_ylabel('Count of Applicants')\n",
    "ax1.set_title(\"Applicants by Credit_History\")\n",
    "temp1.plot(kind='bar')\n",
    "\n",
    "\n",
    "ax2 = fig3.add_subplot(1,2,2)\n",
    "temp2.plot(kind = 'bar')\n",
    "#ax2.set_xlabel('Credit_History')\n",
    "#ax2.set_ylabel('Probability of getting loan')\n",
    "#ax2.set_title(\"Probability of getting loan by credit history\")\n"
   ]
  },
  {
   "cell_type": "markdown",
   "metadata": {},
   "source": [
    "## 2.2 Data Processing\n",
    "\n",
    "### 2.2.1. Make features space\n"
   ]
  },
  {
   "cell_type": "code",
   "execution_count": 48,
   "metadata": {},
   "outputs": [
    {
     "name": "stdout",
     "output_type": "stream",
     "text": [
      "Length of outcome vector:  614\n"
     ]
    }
   ],
   "source": [
    "# recode and save outcome vector\n",
    "y = df_train['Loan_Status'].map({'N': 0, 'Y': 1})\n",
    "del df_train['Loan_Status']\n",
    "print ('Length of outcome vector: ', len(y))\n"
   ]
  },
  {
   "cell_type": "code",
   "execution_count": 49,
   "metadata": {},
   "outputs": [
    {
     "name": "stdout",
     "output_type": "stream",
     "text": [
      "Sizes (614, 11) (367, 11)\n"
     ]
    }
   ],
   "source": [
    "df_test = pd.read_csv('../data/raw/test_Y3wMUE5_7gLdaTN.csv', index_col=0)\n",
    "print('Sizes', df_train.shape, df_test.shape)\n"
   ]
  },
  {
   "cell_type": "code",
   "execution_count": 50,
   "metadata": {},
   "outputs": [
    {
     "data": {
      "text/plain": [
       "(981, 11)"
      ]
     },
     "execution_count": 50,
     "metadata": {},
     "output_type": "execute_result"
    }
   ],
   "source": [
    "# all in one dataframe\n",
    "df = pd.concat([df_train, df_test])\n",
    "df.shape"
   ]
  },
  {
   "cell_type": "code",
   "execution_count": 51,
   "metadata": {},
   "outputs": [
    {
     "data": {
      "text/plain": [
       "Gender               24\n",
       "Married               3\n",
       "Dependents           25\n",
       "Education             0\n",
       "Self_Employed        55\n",
       "ApplicantIncome       0\n",
       "CoapplicantIncome     0\n",
       "LoanAmount           27\n",
       "Loan_Amount_Term     20\n",
       "Credit_History       79\n",
       "Property_Area         0\n",
       "dtype: int64"
      ]
     },
     "execution_count": 51,
     "metadata": {},
     "output_type": "execute_result"
    }
   ],
   "source": [
    "df.apply(lambda x: sum(x.isnull()),axis=0)"
   ]
  },
  {
   "cell_type": "markdown",
   "metadata": {},
   "source": [
    "### 2.2.2. Constructing functions which needed for feature engineering "
   ]
  },
  {
   "cell_type": "code",
   "execution_count": 52,
   "metadata": {},
   "outputs": [],
   "source": [
    "from statistics import median, mode\n",
    "\n",
    "def if_else(condition, a, b):\n",
    "    if condition:\n",
    "        return a\n",
    "    else:\n",
    "        return b\n",
    "\n",
    "def make_time_features(data):\n",
    "    \"\"\"\n",
    "    make datetime features (but not in this case)\n",
    "    \"\"\"\n",
    "    return (data, tm)\n",
    "\n",
    "def make_null_features(data):\n",
    "    \"\"\"\n",
    "    replace missing value\n",
    "    \"\"\"\n",
    "    # replace in Dependents NA -> '0'\n",
    "    data['Dependents'] = data['Dependents'].fillna('0')\n",
    "    \n",
    "    # replace in Married NA -> \"No\"\n",
    "    data['Married']=data['Married'].fillna('No')\n",
    "    \n",
    "    # replace in Gender NA -> \"Male\"\n",
    "    data['Gender'] = data['Gender'].fillna('Male')\n",
    "    \n",
    "    # replace in Self_Employed NA -> \"Yes\" if ApplicantIncome >0 else 'No'\n",
    "    data.loc[data.ApplicantIncome > 0,  'Self_Employed']= \\\n",
    "        data.loc[df.ApplicantIncome > 0,  'Self_Employed'].fillna('Yes')\n",
    "    data.loc[data.ApplicantIncome <= 0,  'Self_Employed']= \\\n",
    "        data.loc[df.ApplicantIncome <= 0,  'Self_Employed'].fillna('No')\n",
    "    \n",
    "    # replace in Loan_Amount NA -> median(Loan_Amount)    \n",
    "    data['LoanAmount']= data['LoanAmount'].fillna(median(data['LoanAmount']))\n",
    "    \n",
    "    # replace in Loan_Amount_Term NA -> mode(Loan_Amount_Term)    \n",
    "    data['Loan_Amount_Term']= data['Loan_Amount_Term'].fillna(mode(data['Loan_Amount_Term']))\n",
    "    \n",
    "    # replace in Credit_History NA -> \"Yes\"\n",
    "    data['Credit_History']=data['Credit_History'].fillna(1)\n",
    "\n",
    "    return data\n",
    "\n",
    "\n",
    "\n",
    "\n",
    "\n",
    "def make_calc_features(data):\n",
    "    \"\"\"\n",
    "    feature engineering \n",
    "    \"\"\"\n",
    "    # calculate FamilySize\n",
    "    data['numDependents'] = data['Dependents'].map({'0': 0, '1': 1, '2': 2, '3+': 3})\n",
    "    data['FamilySize'] = data.apply(lambda x: x.numDependents + 2 if x.CoapplicantIncome > 0 or x.Married == 'Yes'\\\n",
    "                           else x.numDependents + 1, axis =1)\n",
    "    del data['numDependents']\n",
    "    \n",
    "    # calculate TotalIncome\n",
    "    data['TotalIncome'] = data.ApplicantIncome + data.CoapplicantIncome\n",
    "    \n",
    "    # calculate TotalIncomePerson\n",
    "    data['TotalIncomePerson'] = data.TotalIncome / data.FamilySize\n",
    "    \n",
    "    # calculate DTI\n",
    "    data['DTI'] = data.LoanAmount / data.TotalIncome \n",
    "    \n",
    "    # calculate DTI by person\n",
    "    data['DTI_person'] = data.LoanAmount / (data.TotalIncome / data.FamilySize)\n",
    "    \n",
    "    # calculate LoanAmountMonth monthly\n",
    "    data['LoanAmountMonth'] = data.LoanAmount / data.Loan_Amount_Term\n",
    "    \n",
    "    # calculate DTI_month\n",
    "    data['DTI_month'] = data.LoanAmountMonth / data.TotalIncome \n",
    "    \n",
    "    # calculate DTI_month by person\n",
    "    data['DTI_month_person'] = data.LoanAmountMonth / (data.TotalIncome / data.FamilySize)\n",
    "        \n",
    "    return data\n",
    "    \n",
    "    \n",
    "\n",
    "log_features = ['LOG_ApplicantIncome',\n",
    "                'LOG_CoapplicantIncome',\n",
    "                'LOG_LoanAmount',\n",
    "                'LOG_Loan_Amount_Term',\n",
    "                'LOG_TotalIncome',\n",
    "                'LOG_TotalIncomePerson',\n",
    "                'LOG_LoanAmountMonth',\n",
    "                'LOG_DTI',\n",
    "                'LOG_DTI_person',\n",
    "                'LOG_DTI_month',\n",
    "                'LOG_DTI_month_person'   \n",
    "               ]\n",
    "\n",
    "def make_logs(data, log_features):\n",
    "    \"\"\"\n",
    "    log(features)\n",
    "    \"\"\"\n",
    "    for name in log_features:\n",
    "        data[name] = np.log(data[name[4:]].abs() + 1)  # 'LOG_' +\n",
    "\n",
    "    return data\n",
    "\n",
    "def make_str_features(data):\n",
    "    \"\"\"\n",
    "    recode string features to numeric\n",
    "    \"\"\"\n",
    "    data['Gender'] = data['Gender'].map({'Male': 1, 'Female': 0})\n",
    "    data['Married'] = data['Married'].map({'Yes': 1, 'No': 0})\n",
    "    data['Dependents'] = data['Dependents'].map({'0': 0, '1': 1, '2': 2, '3+': 3})\n",
    "    data['Education'] = data['Education'].map({'Graduate': 1, 'Not Graduate': 0})\n",
    "    data['Self_Employed'] = data['Self_Employed'].map({'Yes': 1, 'No': 0})\n",
    "    data['Property_Area'] = data['Property_Area'].map({'Urban': 1, 'Semiurban': 2, 'Rural': 3})\n",
    "\n",
    "    return data"
   ]
  },
  {
   "cell_type": "markdown",
   "metadata": {
    "collapsed": true
   },
   "source": [
    "### 2.2.3. Check missing values in the dataset"
   ]
  },
  {
   "cell_type": "code",
   "execution_count": 53,
   "metadata": {},
   "outputs": [
    {
     "data": {
      "text/plain": [
       "Gender               24\n",
       "Married               3\n",
       "Dependents           25\n",
       "Education             0\n",
       "Self_Employed        55\n",
       "ApplicantIncome       0\n",
       "CoapplicantIncome     0\n",
       "LoanAmount           27\n",
       "Loan_Amount_Term     20\n",
       "Credit_History       79\n",
       "Property_Area         0\n",
       "dtype: int64"
      ]
     },
     "execution_count": 53,
     "metadata": {},
     "output_type": "execute_result"
    }
   ],
   "source": [
    "df.apply(lambda x: sum(x.isnull()),axis=0)"
   ]
  },
  {
   "cell_type": "code",
   "execution_count": 54,
   "metadata": {},
   "outputs": [
    {
     "data": {
      "text/plain": [
       "Gender               0\n",
       "Married              0\n",
       "Dependents           0\n",
       "Education            0\n",
       "Self_Employed        0\n",
       "ApplicantIncome      0\n",
       "CoapplicantIncome    0\n",
       "LoanAmount           0\n",
       "Loan_Amount_Term     0\n",
       "Credit_History       0\n",
       "Property_Area        0\n",
       "dtype: int64"
      ]
     },
     "execution_count": 54,
     "metadata": {},
     "output_type": "execute_result"
    }
   ],
   "source": [
    "#replace NA \n",
    "df= make_null_features(df)\n",
    "df.isnull().sum()"
   ]
  },
  {
   "cell_type": "markdown",
   "metadata": {},
   "source": [
    "### 2.2.4. Make new variables"
   ]
  },
  {
   "cell_type": "code",
   "execution_count": 55,
   "metadata": {},
   "outputs": [],
   "source": [
    "df = make_calc_features(df)"
   ]
  },
  {
   "cell_type": "code",
   "execution_count": 56,
   "metadata": {},
   "outputs": [
    {
     "data": {
      "text/html": [
       "<div>\n",
       "<style scoped>\n",
       "    .dataframe tbody tr th:only-of-type {\n",
       "        vertical-align: middle;\n",
       "    }\n",
       "\n",
       "    .dataframe tbody tr th {\n",
       "        vertical-align: top;\n",
       "    }\n",
       "\n",
       "    .dataframe thead th {\n",
       "        text-align: right;\n",
       "    }\n",
       "</style>\n",
       "<table border=\"1\" class=\"dataframe\">\n",
       "  <thead>\n",
       "    <tr style=\"text-align: right;\">\n",
       "      <th></th>\n",
       "      <th>Gender</th>\n",
       "      <th>Married</th>\n",
       "      <th>Dependents</th>\n",
       "      <th>Education</th>\n",
       "      <th>Self_Employed</th>\n",
       "      <th>ApplicantIncome</th>\n",
       "      <th>CoapplicantIncome</th>\n",
       "      <th>LoanAmount</th>\n",
       "      <th>Loan_Amount_Term</th>\n",
       "      <th>Credit_History</th>\n",
       "      <th>Property_Area</th>\n",
       "      <th>FamilySize</th>\n",
       "      <th>TotalIncome</th>\n",
       "      <th>TotalIncomePerson</th>\n",
       "      <th>DTI</th>\n",
       "      <th>DTI_person</th>\n",
       "      <th>LoanAmountMonth</th>\n",
       "      <th>DTI_month</th>\n",
       "      <th>DTI_month_person</th>\n",
       "    </tr>\n",
       "    <tr>\n",
       "      <th>Loan_ID</th>\n",
       "      <th></th>\n",
       "      <th></th>\n",
       "      <th></th>\n",
       "      <th></th>\n",
       "      <th></th>\n",
       "      <th></th>\n",
       "      <th></th>\n",
       "      <th></th>\n",
       "      <th></th>\n",
       "      <th></th>\n",
       "      <th></th>\n",
       "      <th></th>\n",
       "      <th></th>\n",
       "      <th></th>\n",
       "      <th></th>\n",
       "      <th></th>\n",
       "      <th></th>\n",
       "      <th></th>\n",
       "      <th></th>\n",
       "    </tr>\n",
       "  </thead>\n",
       "  <tbody>\n",
       "    <tr>\n",
       "      <th>LP001002</th>\n",
       "      <td>Male</td>\n",
       "      <td>No</td>\n",
       "      <td>0</td>\n",
       "      <td>Graduate</td>\n",
       "      <td>No</td>\n",
       "      <td>5849</td>\n",
       "      <td>0.0</td>\n",
       "      <td>225.0</td>\n",
       "      <td>360.0</td>\n",
       "      <td>1.0</td>\n",
       "      <td>Urban</td>\n",
       "      <td>1</td>\n",
       "      <td>5849.0</td>\n",
       "      <td>5849.000000</td>\n",
       "      <td>0.038468</td>\n",
       "      <td>0.038468</td>\n",
       "      <td>0.625000</td>\n",
       "      <td>0.000107</td>\n",
       "      <td>0.000107</td>\n",
       "    </tr>\n",
       "    <tr>\n",
       "      <th>LP001003</th>\n",
       "      <td>Male</td>\n",
       "      <td>Yes</td>\n",
       "      <td>1</td>\n",
       "      <td>Graduate</td>\n",
       "      <td>No</td>\n",
       "      <td>4583</td>\n",
       "      <td>1508.0</td>\n",
       "      <td>128.0</td>\n",
       "      <td>360.0</td>\n",
       "      <td>1.0</td>\n",
       "      <td>Rural</td>\n",
       "      <td>3</td>\n",
       "      <td>6091.0</td>\n",
       "      <td>2030.333333</td>\n",
       "      <td>0.021015</td>\n",
       "      <td>0.063044</td>\n",
       "      <td>0.355556</td>\n",
       "      <td>0.000058</td>\n",
       "      <td>0.000175</td>\n",
       "    </tr>\n",
       "    <tr>\n",
       "      <th>LP001005</th>\n",
       "      <td>Male</td>\n",
       "      <td>Yes</td>\n",
       "      <td>0</td>\n",
       "      <td>Graduate</td>\n",
       "      <td>Yes</td>\n",
       "      <td>3000</td>\n",
       "      <td>0.0</td>\n",
       "      <td>66.0</td>\n",
       "      <td>360.0</td>\n",
       "      <td>1.0</td>\n",
       "      <td>Urban</td>\n",
       "      <td>2</td>\n",
       "      <td>3000.0</td>\n",
       "      <td>1500.000000</td>\n",
       "      <td>0.022000</td>\n",
       "      <td>0.044000</td>\n",
       "      <td>0.183333</td>\n",
       "      <td>0.000061</td>\n",
       "      <td>0.000122</td>\n",
       "    </tr>\n",
       "    <tr>\n",
       "      <th>LP001006</th>\n",
       "      <td>Male</td>\n",
       "      <td>Yes</td>\n",
       "      <td>0</td>\n",
       "      <td>Not Graduate</td>\n",
       "      <td>No</td>\n",
       "      <td>2583</td>\n",
       "      <td>2358.0</td>\n",
       "      <td>120.0</td>\n",
       "      <td>360.0</td>\n",
       "      <td>1.0</td>\n",
       "      <td>Urban</td>\n",
       "      <td>2</td>\n",
       "      <td>4941.0</td>\n",
       "      <td>2470.500000</td>\n",
       "      <td>0.024287</td>\n",
       "      <td>0.048573</td>\n",
       "      <td>0.333333</td>\n",
       "      <td>0.000067</td>\n",
       "      <td>0.000135</td>\n",
       "    </tr>\n",
       "    <tr>\n",
       "      <th>LP001008</th>\n",
       "      <td>Male</td>\n",
       "      <td>No</td>\n",
       "      <td>0</td>\n",
       "      <td>Graduate</td>\n",
       "      <td>No</td>\n",
       "      <td>6000</td>\n",
       "      <td>0.0</td>\n",
       "      <td>141.0</td>\n",
       "      <td>360.0</td>\n",
       "      <td>1.0</td>\n",
       "      <td>Urban</td>\n",
       "      <td>1</td>\n",
       "      <td>6000.0</td>\n",
       "      <td>6000.000000</td>\n",
       "      <td>0.023500</td>\n",
       "      <td>0.023500</td>\n",
       "      <td>0.391667</td>\n",
       "      <td>0.000065</td>\n",
       "      <td>0.000065</td>\n",
       "    </tr>\n",
       "    <tr>\n",
       "      <th>LP001011</th>\n",
       "      <td>Male</td>\n",
       "      <td>Yes</td>\n",
       "      <td>2</td>\n",
       "      <td>Graduate</td>\n",
       "      <td>Yes</td>\n",
       "      <td>5417</td>\n",
       "      <td>4196.0</td>\n",
       "      <td>267.0</td>\n",
       "      <td>360.0</td>\n",
       "      <td>1.0</td>\n",
       "      <td>Urban</td>\n",
       "      <td>4</td>\n",
       "      <td>9613.0</td>\n",
       "      <td>2403.250000</td>\n",
       "      <td>0.027775</td>\n",
       "      <td>0.111100</td>\n",
       "      <td>0.741667</td>\n",
       "      <td>0.000077</td>\n",
       "      <td>0.000309</td>\n",
       "    </tr>\n",
       "    <tr>\n",
       "      <th>LP001013</th>\n",
       "      <td>Male</td>\n",
       "      <td>Yes</td>\n",
       "      <td>0</td>\n",
       "      <td>Not Graduate</td>\n",
       "      <td>No</td>\n",
       "      <td>2333</td>\n",
       "      <td>1516.0</td>\n",
       "      <td>95.0</td>\n",
       "      <td>360.0</td>\n",
       "      <td>1.0</td>\n",
       "      <td>Urban</td>\n",
       "      <td>2</td>\n",
       "      <td>3849.0</td>\n",
       "      <td>1924.500000</td>\n",
       "      <td>0.024682</td>\n",
       "      <td>0.049363</td>\n",
       "      <td>0.263889</td>\n",
       "      <td>0.000069</td>\n",
       "      <td>0.000137</td>\n",
       "    </tr>\n",
       "    <tr>\n",
       "      <th>LP001014</th>\n",
       "      <td>Male</td>\n",
       "      <td>Yes</td>\n",
       "      <td>3+</td>\n",
       "      <td>Graduate</td>\n",
       "      <td>No</td>\n",
       "      <td>3036</td>\n",
       "      <td>2504.0</td>\n",
       "      <td>158.0</td>\n",
       "      <td>360.0</td>\n",
       "      <td>0.0</td>\n",
       "      <td>Semiurban</td>\n",
       "      <td>5</td>\n",
       "      <td>5540.0</td>\n",
       "      <td>1108.000000</td>\n",
       "      <td>0.028520</td>\n",
       "      <td>0.142599</td>\n",
       "      <td>0.438889</td>\n",
       "      <td>0.000079</td>\n",
       "      <td>0.000396</td>\n",
       "    </tr>\n",
       "    <tr>\n",
       "      <th>LP001018</th>\n",
       "      <td>Male</td>\n",
       "      <td>Yes</td>\n",
       "      <td>2</td>\n",
       "      <td>Graduate</td>\n",
       "      <td>No</td>\n",
       "      <td>4006</td>\n",
       "      <td>1526.0</td>\n",
       "      <td>168.0</td>\n",
       "      <td>360.0</td>\n",
       "      <td>1.0</td>\n",
       "      <td>Urban</td>\n",
       "      <td>4</td>\n",
       "      <td>5532.0</td>\n",
       "      <td>1383.000000</td>\n",
       "      <td>0.030369</td>\n",
       "      <td>0.121475</td>\n",
       "      <td>0.466667</td>\n",
       "      <td>0.000084</td>\n",
       "      <td>0.000337</td>\n",
       "    </tr>\n",
       "    <tr>\n",
       "      <th>LP001020</th>\n",
       "      <td>Male</td>\n",
       "      <td>Yes</td>\n",
       "      <td>1</td>\n",
       "      <td>Graduate</td>\n",
       "      <td>No</td>\n",
       "      <td>12841</td>\n",
       "      <td>10968.0</td>\n",
       "      <td>349.0</td>\n",
       "      <td>360.0</td>\n",
       "      <td>1.0</td>\n",
       "      <td>Semiurban</td>\n",
       "      <td>3</td>\n",
       "      <td>23809.0</td>\n",
       "      <td>7936.333333</td>\n",
       "      <td>0.014658</td>\n",
       "      <td>0.043975</td>\n",
       "      <td>0.969444</td>\n",
       "      <td>0.000041</td>\n",
       "      <td>0.000122</td>\n",
       "    </tr>\n",
       "  </tbody>\n",
       "</table>\n",
       "</div>"
      ],
      "text/plain": [
       "         Gender Married Dependents     Education Self_Employed  \\\n",
       "Loan_ID                                                          \n",
       "LP001002   Male      No          0      Graduate            No   \n",
       "LP001003   Male     Yes          1      Graduate            No   \n",
       "LP001005   Male     Yes          0      Graduate           Yes   \n",
       "LP001006   Male     Yes          0  Not Graduate            No   \n",
       "LP001008   Male      No          0      Graduate            No   \n",
       "LP001011   Male     Yes          2      Graduate           Yes   \n",
       "LP001013   Male     Yes          0  Not Graduate            No   \n",
       "LP001014   Male     Yes         3+      Graduate            No   \n",
       "LP001018   Male     Yes          2      Graduate            No   \n",
       "LP001020   Male     Yes          1      Graduate            No   \n",
       "\n",
       "          ApplicantIncome  CoapplicantIncome  LoanAmount  Loan_Amount_Term  \\\n",
       "Loan_ID                                                                      \n",
       "LP001002             5849                0.0       225.0             360.0   \n",
       "LP001003             4583             1508.0       128.0             360.0   \n",
       "LP001005             3000                0.0        66.0             360.0   \n",
       "LP001006             2583             2358.0       120.0             360.0   \n",
       "LP001008             6000                0.0       141.0             360.0   \n",
       "LP001011             5417             4196.0       267.0             360.0   \n",
       "LP001013             2333             1516.0        95.0             360.0   \n",
       "LP001014             3036             2504.0       158.0             360.0   \n",
       "LP001018             4006             1526.0       168.0             360.0   \n",
       "LP001020            12841            10968.0       349.0             360.0   \n",
       "\n",
       "          Credit_History Property_Area  FamilySize  TotalIncome  \\\n",
       "Loan_ID                                                           \n",
       "LP001002             1.0         Urban           1       5849.0   \n",
       "LP001003             1.0         Rural           3       6091.0   \n",
       "LP001005             1.0         Urban           2       3000.0   \n",
       "LP001006             1.0         Urban           2       4941.0   \n",
       "LP001008             1.0         Urban           1       6000.0   \n",
       "LP001011             1.0         Urban           4       9613.0   \n",
       "LP001013             1.0         Urban           2       3849.0   \n",
       "LP001014             0.0     Semiurban           5       5540.0   \n",
       "LP001018             1.0         Urban           4       5532.0   \n",
       "LP001020             1.0     Semiurban           3      23809.0   \n",
       "\n",
       "          TotalIncomePerson       DTI  DTI_person  LoanAmountMonth  DTI_month  \\\n",
       "Loan_ID                                                                         \n",
       "LP001002        5849.000000  0.038468    0.038468         0.625000   0.000107   \n",
       "LP001003        2030.333333  0.021015    0.063044         0.355556   0.000058   \n",
       "LP001005        1500.000000  0.022000    0.044000         0.183333   0.000061   \n",
       "LP001006        2470.500000  0.024287    0.048573         0.333333   0.000067   \n",
       "LP001008        6000.000000  0.023500    0.023500         0.391667   0.000065   \n",
       "LP001011        2403.250000  0.027775    0.111100         0.741667   0.000077   \n",
       "LP001013        1924.500000  0.024682    0.049363         0.263889   0.000069   \n",
       "LP001014        1108.000000  0.028520    0.142599         0.438889   0.000079   \n",
       "LP001018        1383.000000  0.030369    0.121475         0.466667   0.000084   \n",
       "LP001020        7936.333333  0.014658    0.043975         0.969444   0.000041   \n",
       "\n",
       "          DTI_month_person  \n",
       "Loan_ID                     \n",
       "LP001002          0.000107  \n",
       "LP001003          0.000175  \n",
       "LP001005          0.000122  \n",
       "LP001006          0.000135  \n",
       "LP001008          0.000065  \n",
       "LP001011          0.000309  \n",
       "LP001013          0.000137  \n",
       "LP001014          0.000396  \n",
       "LP001018          0.000337  \n",
       "LP001020          0.000122  "
      ]
     },
     "execution_count": 56,
     "metadata": {},
     "output_type": "execute_result"
    }
   ],
   "source": [
    "df.head(10)"
   ]
  },
  {
   "cell_type": "markdown",
   "metadata": {
    "collapsed": true
   },
   "source": [
    "### 2.2.5. Make log features"
   ]
  },
  {
   "cell_type": "code",
   "execution_count": 57,
   "metadata": {},
   "outputs": [],
   "source": [
    "df = make_logs(df, log_features)\n"
   ]
  },
  {
   "cell_type": "markdown",
   "metadata": {
    "collapsed": true
   },
   "source": [
    "### 2.2.5. Make string features (as numeric)"
   ]
  },
  {
   "cell_type": "code",
   "execution_count": 58,
   "metadata": {},
   "outputs": [],
   "source": [
    "df = make_str_features(df)"
   ]
  },
  {
   "cell_type": "code",
   "execution_count": 59,
   "metadata": {},
   "outputs": [
    {
     "data": {
      "text/plain": [
       "Gender                   0\n",
       "Married                  0\n",
       "Dependents               0\n",
       "Education                0\n",
       "Self_Employed            0\n",
       "ApplicantIncome          0\n",
       "CoapplicantIncome        0\n",
       "LoanAmount               0\n",
       "Loan_Amount_Term         0\n",
       "Credit_History           0\n",
       "Property_Area            0\n",
       "FamilySize               0\n",
       "TotalIncome              0\n",
       "TotalIncomePerson        0\n",
       "DTI                      0\n",
       "DTI_person               0\n",
       "LoanAmountMonth          0\n",
       "DTI_month                0\n",
       "DTI_month_person         0\n",
       "LOG_ApplicantIncome      0\n",
       "LOG_CoapplicantIncome    0\n",
       "LOG_LoanAmount           0\n",
       "LOG_Loan_Amount_Term     0\n",
       "LOG_TotalIncome          0\n",
       "LOG_TotalIncomePerson    0\n",
       "LOG_LoanAmountMonth      0\n",
       "LOG_DTI                  0\n",
       "LOG_DTI_person           0\n",
       "LOG_DTI_month            0\n",
       "LOG_DTI_month_person     0\n",
       "dtype: int64"
      ]
     },
     "execution_count": 59,
     "metadata": {},
     "output_type": "execute_result"
    }
   ],
   "source": [
    "# check NA\n",
    "df.apply(lambda x: sum(x.isnull()),axis=0)"
   ]
  },
  {
   "cell_type": "markdown",
   "metadata": {},
   "source": [
    "### 2.3 Resizing data\n"
   ]
  },
  {
   "cell_type": "markdown",
   "metadata": {},
   "source": [
    "\n",
    "### 2.3.1. Correlation matrix"
   ]
  },
  {
   "cell_type": "code",
   "execution_count": 60,
   "metadata": {},
   "outputs": [
    {
     "data": {
      "text/plain": [
       "<matplotlib.axes._subplots.AxesSubplot at 0x21810c36780>"
      ]
     },
     "execution_count": 60,
     "metadata": {},
     "output_type": "execute_result"
    },
    {
     "data": {
      "image/png": "[encoded data removed]",
      "text/plain": [
       "<Figure size 720x576 with 2 Axes>"
      ]
     },
     "metadata": {},
     "output_type": "display_data"
    }
   ],
   "source": [
    "#View correlations on heatmap\n",
    "f, ax = plt.subplots(figsize=(10, 8))\n",
    "corr = df.corr()\n",
    "sns.heatmap(corr, mask=np.zeros_like(corr, dtype=np.bool), cmap=sns.diverging_palette(220, 10, as_cmap=True),\n",
    "            square=True, ax=ax)\n",
    "\n"
   ]
  },
  {
   "cell_type": "code",
   "execution_count": 61,
   "metadata": {},
   "outputs": [],
   "source": [
    "def drop_correlated_features(df, corr_treshhold = 0.95):\n",
    "    # Create correlation matrix\n",
    "    corr_matrix = df.corr().abs()\n",
    "    #print(corr_matrix)\n",
    "    # Select upper triangle of correlation matrix\n",
    "    upper = corr_matrix.where(np.triu(np.ones(corr_matrix.shape), k=1).astype(np.bool))\n",
    "\n",
    "    # Find index of feature columns with correlation greater than corr_treshhold\n",
    "    to_drop = [column for column in upper.columns if any(upper[column] > corr_treshhold)]\n",
    "    print(\"Columns were droped: \", to_drop)\n",
    "    df.drop(columns = to_drop, axis=1)\n",
    "    return df"
   ]
  },
  {
   "cell_type": "code",
   "execution_count": 62,
   "metadata": {},
   "outputs": [
    {
     "name": "stdout",
     "output_type": "stream",
     "text": [
      "Columns were droped:  ['LOG_DTI', 'LOG_DTI_person', 'LOG_DTI_month', 'LOG_DTI_month_person']\n"
     ]
    }
   ],
   "source": [
    "# Drop features \n",
    "df = drop_correlated_features(df)\n"
   ]
  },
  {
   "cell_type": "markdown",
   "metadata": {},
   "source": [
    "### 2.3.2.  ‘WOEization’ of continuous variables\n",
    "We will start with cont. variables first of all. Factors are already discretized. To do this I am going to use functions from library woeBinning.\n",
    "\n",
    "Let’s define an auxiliary function."
   ]
  },
  {
   "cell_type": "code",
   "execution_count": null,
   "metadata": {},
   "outputs": [],
   "source": []
  },
  {
   "cell_type": "markdown",
   "metadata": {},
   "source": [
    "## 2.3. Divide data on train and test again and save"
   ]
  },
  {
   "cell_type": "code",
   "execution_count": 63,
   "metadata": {},
   "outputs": [
    {
     "name": "stdout",
     "output_type": "stream",
     "text": [
      "(614, 30) (367, 30)\n"
     ]
    }
   ],
   "source": [
    "data_train = df[df.index.isin(df_train.index)]\n",
    "data_test = df[df.index.isin(df_test.index)]\n",
    "print(data_train.shape, data_test.shape)\n",
    "\n",
    "data_tmp = data_train.copy()\n",
    "data_tmp['y'] = y\n",
    "\n",
    "\n",
    "data_tmp.to_csv('../data/processed/train_ready.csv', index=False)\n",
    "data_test.to_csv('../data/processed/test_ready.csv', index=False)"
   ]
  },
  {
   "cell_type": "code",
   "execution_count": 64,
   "metadata": {},
   "outputs": [
    {
     "name": "stdout",
     "output_type": "stream",
     "text": [
      "<class 'pandas.core.frame.DataFrame'>\n",
      "Index: 614 entries, LP001002 to LP002990\n",
      "Data columns (total 31 columns):\n",
      "Gender                   614 non-null int64\n",
      "Married                  614 non-null int64\n",
      "Dependents               614 non-null int64\n",
      "Education                614 non-null int64\n",
      "Self_Employed            614 non-null int64\n",
      "ApplicantIncome          614 non-null int64\n",
      "CoapplicantIncome        614 non-null float64\n",
      "LoanAmount               614 non-null float64\n",
      "Loan_Amount_Term         614 non-null float64\n",
      "Credit_History           614 non-null float64\n",
      "Property_Area            614 non-null int64\n",
      "FamilySize               614 non-null int64\n",
      "TotalIncome              614 non-null float64\n",
      "TotalIncomePerson        614 non-null float64\n",
      "DTI                      614 non-null float64\n",
      "DTI_person               614 non-null float64\n",
      "LoanAmountMonth          614 non-null float64\n",
      "DTI_month                614 non-null float64\n",
      "DTI_month_person         614 non-null float64\n",
      "LOG_ApplicantIncome      614 non-null float64\n",
      "LOG_CoapplicantIncome    614 non-null float64\n",
      "LOG_LoanAmount           614 non-null float64\n",
      "LOG_Loan_Amount_Term     614 non-null float64\n",
      "LOG_TotalIncome          614 non-null float64\n",
      "LOG_TotalIncomePerson    614 non-null float64\n",
      "LOG_LoanAmountMonth      614 non-null float64\n",
      "LOG_DTI                  614 non-null float64\n",
      "LOG_DTI_person           614 non-null float64\n",
      "LOG_DTI_month            614 non-null float64\n",
      "LOG_DTI_month_person     614 non-null float64\n",
      "y                        614 non-null int64\n",
      "dtypes: float64(22), int64(9)\n",
      "memory usage: 153.5+ KB\n"
     ]
    }
   ],
   "source": [
    "data_tmp.info()"
   ]
  },
  {
   "cell_type": "code",
   "execution_count": 65,
   "metadata": {},
   "outputs": [],
   "source": [
    "def get_features_and_labels(frame):\n",
    "    '''\n",
    "    Transforms and scales the input data and returns numpy arrays for\n",
    "    training and testing inputs and targets.\n",
    "    '''\n",
    "\n",
    "    # Replace missing values with 0.0, or we can use\n",
    "    # scikit-learn to calculate missing values (below)\n",
    "    #frame[frame.isnull()] = 0.0\n",
    "\n",
    "    # Convert values to floats\n",
    "    arr = np.array(frame, dtype=np.float)\n",
    "\n",
    "    # Use the last column as the target value\n",
    "    X, y = arr[:, :-1], arr[:, -1]\n",
    "    # To use the first column instead, change the index value\n",
    "    #X, y = arr[:, 1:], arr[:, 0]\n",
    "    \n",
    "    # Use 80% of the data for training; test against the rest\n",
    "    from sklearn.model_selection import train_test_split\n",
    "    X_train, X_test, y_train, y_test = train_test_split(X, y, test_size=0.2)\n",
    "\n",
    "    # sklearn.pipeline.make_pipeline could also be used to chain \n",
    "    # processing and classification into a black box, but here we do\n",
    "    # them separately.\n",
    "    \n",
    "    # If values are missing we could impute them from the training data\n",
    "    #from sklearn.preprocessing import Imputer\n",
    "    #imputer = Imputer(strategy='mean')\n",
    "    #imputer.fit(X_train)\n",
    "    #X_train = imputer.transform(X_train)\n",
    "    #X_test = imputer.transform(X_test)\n",
    "    \n",
    "    # Normalize the attribute values to mean=0 and variance=1\n",
    "    from sklearn.preprocessing import StandardScaler\n",
    "    scaler = StandardScaler()\n",
    "    # To scale to a specified range, use MinMaxScaler\n",
    "    #from sklearn.preprocessing import MinMaxScaler\n",
    "    #scaler = MinMaxScaler(feature_range=(0, 1))\n",
    "    \n",
    "    # Fit the scaler based on the training data, then apply the same\n",
    "    # scaling to both training and test sets.\n",
    "    scaler.fit(X_train)\n",
    "    X_train = scaler.transform(X_train)\n",
    "    X_test = scaler.transform(X_test)\n",
    "\n",
    "    # Return the training and test sets\n",
    "    return X_train, X_test, y_train, y_test\n",
    "\n",
    "\n",
    "trainSet, testSet, y_train, y_test = get_features_and_labels (data_tmp )\n"
   ]
  },
  {
   "cell_type": "code",
   "execution_count": null,
   "metadata": {},
   "outputs": [],
   "source": []
  },
  {
   "cell_type": "markdown",
   "metadata": {
    "collapsed": true
   },
   "source": [
    "# 3. Building a Predictive Models"
   ]
  },
  {
   "cell_type": "markdown",
   "metadata": {},
   "source": [
    "## 3.1."
   ]
  },
  {
   "cell_type": "code",
   "execution_count": 66,
   "metadata": {},
   "outputs": [
    {
     "name": "stdout",
     "output_type": "stream",
     "text": [
      "Evaluating classifiers\n",
      "LR: ROC_AUC on CV 0.766052 (0.044550) ; ROC_AUC on testSet: 0.669880 \n",
      "RF: ROC_AUC on CV 0.783993 (0.060553) ; ROC_AUC on testSet: 0.683735 \n",
      "XGB: ROC_AUC on CV 0.776957 (0.056305) ; ROC_AUC on testSet: 0.670783 \n",
      "LGB: ROC_AUC on CV 0.791102 (0.051702) ; ROC_AUC on testSet: 0.677711 \n",
      "Plotting the results\n"
     ]
    },
    {
     "data": {
      "image/png": "[encoded data removed]",
      "text/plain": [
       "<Figure size 432x432 with 1 Axes>"
      ]
     },
     "metadata": {},
     "output_type": "display_data"
    }
   ],
   "source": [
    "def evaluate_classifier(X_train, X_test, y_train, y_test):\n",
    "    '''\n",
    "    Run multiple times with different classifiers to get an idea of the\n",
    "    relative performance of each configuration.\n",
    "\n",
    "    Returns a sequence of tuples containing:\n",
    "        (title, precision, recall)\n",
    "    for each learner.\n",
    "    '''\n",
    "\n",
    "    from sklearn.model_selection import KFold, StratifiedKFold\n",
    "    from sklearn.model_selection import cross_val_score\n",
    "    \n",
    "    # Import some classifiers to test\n",
    "    from sklearn.linear_model import LogisticRegression\n",
    "    from sklearn.ensemble import RandomForestClassifier\n",
    "    from xgboost import XGBClassifier\n",
    "    from lightgbm import LGBMClassifier\n",
    "    \n",
    "    # We will calculate the P-R curve for each classifier\n",
    "    from sklearn.metrics import precision_recall_curve, f1_score, accuracy_score, roc_auc_score, roc_curve, auc\n",
    "    \n",
    "    #\n",
    "   \n",
    "    models = []\n",
    "    seed = 7\n",
    "    \n",
    "    scoring = 'roc_auc'\n",
    "    #scoring = {'acc': 'accuracy','AUC': 'roc_auc'}\n",
    "    \n",
    "    kfold =  StratifiedKFold(n_splits=10, random_state=seed)\n",
    "    \n",
    "    # Here we create classifiers with default parameters. These need\n",
    "    # to be adjusted to obtain optimal performance on your data set.\n",
    "    \n",
    "    # Test the logistoc regression classifier\n",
    "    model = LogisticRegression ()\n",
    "    name='LR'\n",
    "    # Fit the classifier\n",
    "    model.fit(X_train, y_train)\n",
    "    \n",
    "    #Cross validation result   \n",
    "    cv_results= cross_val_score(model, X_train, y_train, cv=kfold, scoring=scoring)\n",
    "           \n",
    "    #Result on testSet \n",
    "    #calculate ROC_AUC\n",
    "    auc_score = roc_auc_score(y_test, model.predict(X_test))\n",
    "    # Generate the ROC curve\n",
    "    fpr, tpr, threshold = roc_curve(y_test, model.predict(X_test))\n",
    "     \n",
    "    msg = \"%s: %s %f (%f) %s: %f \" % (name, \"ROC_AUC on CV\", cv_results.mean(), cv_results.std(),\n",
    "                                      \"; ROC_AUC on testSet\", auc_score)\n",
    "    print(msg)\n",
    "    # Include the score in the title\n",
    "    yield 'Logistic Regression (AUC score={:.3f})'.format(auc_score), fpr, tpr, threshold\n",
    "    # #####################################################################################\n",
    "    \n",
    "\n",
    "    # Test the Random rForest classifier\n",
    "    model = RandomForestClassifier(n_estimators=100)\n",
    "\n",
    "    name='RF'\n",
    "    # Fit the classifier\n",
    "    model.fit(X_train, y_train)\n",
    "    \n",
    "    #Cross validation result   \n",
    "    cv_results= cross_val_score(model, X_train, y_train, cv=kfold, scoring = scoring)\n",
    "    #print(cv_results)\n",
    "\n",
    "    \n",
    "    \n",
    "     \n",
    "    #Result on testSet \n",
    "    #calculate ROC_AUC\n",
    "    auc_score = roc_auc_score(y_test, model.predict(X_test))\n",
    "    # Generate the ROC curve\n",
    "    fpr, tpr, threshold = roc_curve(y_test, model.predict(X_test))\n",
    "      \n",
    "    msg = \"%s: %s %f (%f) %s: %f \" % (name, \"ROC_AUC on CV\", cv_results.mean(), cv_results.std(),\n",
    "                                      \"; ROC_AUC on testSet\", auc_score)\n",
    "    print(msg)\n",
    "    # Include the score in the title\n",
    "    yield 'Random Forest (AUC score={:.3f})'.format(auc_score), fpr, tpr, threshold\n",
    "    # #####################################################################################\n",
    "\n",
    "    # Test the XGBoost classifier\n",
    "    model = XGBClassifier()\n",
    "\n",
    "    name = 'XGB'\n",
    "    # Fit the classifier\n",
    "    model.fit(X_train, y_train)\n",
    "    \n",
    "    #Cross validation result   \n",
    "    cv_results = cross_val_score(model, X_train, y_train, cv=kfold, scoring = scoring)\n",
    "    #print(cv_results)\n",
    "    \n",
    "    #Result on testSet \n",
    "    #calculate ROC_AUC\n",
    "    auc_score = roc_auc_score(y_test, model.predict(X_test))\n",
    "    # Generate the ROC curve\n",
    "    fpr, tpr, threshold = roc_curve(y_test, model.predict(X_test))\n",
    "      \n",
    "    msg = \"%s: %s %f (%f) %s: %f \" % (name, \"ROC_AUC on CV\", cv_results.mean(), cv_results.std(),\n",
    "                                      \"; ROC_AUC on testSet\", auc_score)\n",
    "    print(msg)\n",
    "    # Include the score in the title\n",
    "    yield 'XGBoost (AUC score={:.3f})'.format(auc_score), fpr, tpr, threshold\n",
    "    # #####################################################################################\n",
    "\n",
    "    # Test the LigtGBM classifier\n",
    "    model = LGBMClassifier()\n",
    "    name = 'LGB'\n",
    "    # Fit the classifier\n",
    "    model.fit(X_train, y_train)\n",
    "    \n",
    "    # Cross validation result   \n",
    "    cv_results = cross_val_score(model, X_train, y_train, cv=kfold, scoring = scoring)\n",
    "    # print(cv_results)\n",
    "    \n",
    "    # Result on testSet \n",
    "    # calculate ROC_AUC\n",
    "    auc_score = roc_auc_score(y_test, model.predict(X_test))\n",
    "    # Generate the ROC curve\n",
    "    fpr, tpr, threshold = roc_curve(y_test, model.predict(X_test))\n",
    "    msg = \"%s: %s %f (%f) %s: %f \" % (name, \"ROC_AUC on CV\", cv_results.mean(), cv_results.std(),\n",
    "                                      \"; ROC_AUC on testSet\", auc_score)\n",
    "    print(msg)\n",
    "    # Include the score in the title\n",
    "    yield 'LigtGBM (AUC score={:.3f})'.format(auc_score), fpr, tpr, threshold\n",
    "    # #####################################################################################\n",
    "\n",
    "\n",
    "    # =====================================================================\n",
    "\n",
    "    \n",
    "    \n",
    "    \n",
    "def plot(results):\n",
    "    '''\n",
    "    Create a plot comparing multiple learners.\n",
    "\n",
    "    `results` is a list of tuples containing:\n",
    "        (title, fpr, tpr)\n",
    "    \n",
    "    All the elements in results will be plotted.\n",
    "    '''\n",
    "\n",
    "    # Plot the ROC curves\n",
    "\n",
    "    fig = plt.figure(figsize=(6, 6))\n",
    "    fig.canvas.set_window_title('Classifying data')\n",
    "\n",
    "    for label, fpr, tpr, _ in results:\n",
    "        plt.plot(fpr, tpr, label=label)\n",
    "        \n",
    "        \n",
    "    plt.title('ROC Curves')\n",
    "    plt.xlabel('fpr')\n",
    "    plt.ylabel('tpr')\n",
    "    plt.legend(loc='lower left')\n",
    "\n",
    "    # Let matplotlib improve the layout\n",
    "    plt.tight_layout()\n",
    "\n",
    "    # ==================================\n",
    "    # Display the plot in interactive UI\n",
    "    plt.show()\n",
    "\n",
    "    # To save the plot to an image file, use savefig()\n",
    "    #plt.savefig('plot.png')\n",
    "\n",
    "    # Open the image file with the default image viewer\n",
    "    #import subprocess\n",
    "    #subprocess.Popen('plot.png', shell=True)\n",
    "\n",
    "    # To save the plot to an image in memory, use BytesIO and savefig()\n",
    "    # This can then be written to any stream-like object, such as a\n",
    "    # file or HTTP response.\n",
    "    #from io import BytesIO\n",
    "    #img_stream = BytesIO()\n",
    "    #plt.savefig(img_stream, fmt='png')\n",
    "    #img_bytes = img_stream.getvalue()\n",
    "    #print('Image is {} bytes - {!r}'.format(len(img_bytes), img_bytes[:8] + b'...'))\n",
    "\n",
    "    # Closing the figure allows matplotlib to release the memory used.\n",
    "    plt.close()\n",
    "\n",
    "    \n",
    "    \n",
    "    \n",
    "    \n",
    "# Evaluate multiple classifiers on the data\n",
    "print(\"Evaluating classifiers\")\n",
    "results = list(evaluate_classifier(trainSet, testSet, y_train, y_test))\n",
    "\n",
    "# Display the results\n",
    "print(\"Plotting the results\")\n",
    "plot(results)\n",
    "    \n",
    "    \n",
    " \n"
   ]
  },
  {
   "cell_type": "code",
   "execution_count": null,
   "metadata": {},
   "outputs": [],
   "source": []
  },
  {
   "cell_type": "code",
   "execution_count": null,
   "metadata": {},
   "outputs": [],
   "source": []
  }
 ],
 "metadata": {
  "kernelspec": {
   "display_name": "Python 3",
   "language": "python",
   "name": "python3"
  },
  "language_info": {
   "codemirror_mode": {
    "name": "ipython",
    "version": 3
   },
   "file_extension": ".py",
   "mimetype": "text/x-python",
   "name": "python",
   "nbconvert_exporter": "python",
   "pygments_lexer": "ipython3",
   "version": "3.6.4"
  }
 },
 "nbformat": 4,
 "nbformat_minor": 1
}
